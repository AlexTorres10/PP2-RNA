{
 "cells": [
  {
   "cell_type": "code",
   "execution_count": 1,
   "metadata": {},
   "outputs": [],
   "source": [
    "import numpy as np\n",
    "import matplotlib.pyplot as plt"
   ]
  },
  {
   "cell_type": "markdown",
   "metadata": {},
   "source": [
    "# Parte I"
   ]
  },
  {
   "cell_type": "code",
   "execution_count": 2,
   "metadata": {},
   "outputs": [
    {
     "data": {
      "text/plain": [
       "array([[-363.7884,  244.1423,    0.    ],\n",
       "       [ 328.7572, -256.7658,    1.    ],\n",
       "       [-164.9827,  613.2164,    0.    ],\n",
       "       ...,\n",
       "       [ 872.4311,  669.1192,    1.    ],\n",
       "       [ 822.6894, -702.6489,    1.    ],\n",
       "       [-140.147 ,  734.0983,    0.    ]])"
      ]
     },
     "execution_count": 2,
     "metadata": {},
     "output_type": "execute_result"
    }
   ],
   "source": [
    "archiveAll = 'dataAll.txt'\n",
    "dataAll = np.fromfile(archiveAll)\n",
    "lenAll = int(len(dataAll)/3)\n",
    "dataAll = np.reshape(dataAll, (lenAll,3)) \n",
    "# Eu sei que é (m,1,3), mas na prática não vimos muita diferença então colocamos (m,3)\n",
    "\n",
    "dataAll"
   ]
  },
  {
   "cell_type": "code",
   "execution_count": 3,
   "metadata": {},
   "outputs": [
    {
     "name": "stdout",
     "output_type": "stream",
     "text": [
      "Pesos iniciais: [0.01899703 0.10907365]\n",
      "Época 1\n",
      "[ 36.39783703 -24.30515635]\n",
      "[ -17.26121297 -100.80090635]\n",
      "[ 55.53480703 -64.97134635]\n",
      "[138.13350703  14.88448365]\n",
      "[143.97926703 -63.41010635]\n",
      "[ 103.97035703 -141.30279635]\n",
      "[157.64016703 -92.21052635]\n",
      "[ 104.68010703 -149.07998635]\n",
      "[164.23962703 -98.95765635]\n",
      "[ 118.71499703 -164.59358635]\n",
      "[209.43085703 -89.88026635]\n",
      "[ 151.64986703 -150.18841635]\n",
      "[ 103.38330703 -198.65813635]\n",
      "[ 173.83065703 -156.54186635]\n",
      "[ 126.98865703 -207.95173635]\n",
      "[ 196.85228703 -143.73279635]\n",
      "[ 141.01655703 -199.91032635]\n",
      "[ 218.00402703 -135.06099635]\n",
      "[ 181.73398703 -178.28903635]\n",
      "[ 163.49484703 -196.62267635]\n",
      "[ 238.91728703 -130.56756635]\n",
      "[ 174.55815703 -212.99000635]\n",
      "[ 265.86636703 -129.71923635]\n",
      "[ 218.82153703 -217.62317635]\n",
      "Época 2\n",
      "[ 170.55497703 -266.09289635]\n",
      "[ 240.41860703 -201.87395635]\n",
      "[ 184.58287703 -258.05148635]\n",
      "[ 261.57034703 -193.20215635]\n",
      "[ 225.30030703 -236.43019635]\n",
      "[ 308.19217703 -153.64870635]\n",
      "[ 262.04479703 -210.29808635]\n",
      "[ 235.41917703 -242.82045635]\n",
      "[ 282.44353703 -196.26628635]\n",
      "[ 252.55947703 -229.37561635]\n",
      "[ 234.32033703 -247.70925635]\n",
      "[ 265.62721703 -217.08093635]\n",
      "[ 190.07331703 -294.40388635]\n",
      "[ 259.04920703 -229.61295635]\n",
      "[ 163.23765703 -327.49469635]\n",
      "[ 244.41138703 -276.14675635]\n",
      "[ 343.87921703 -184.25719635]\n",
      "[ 285.17429703 -276.59444635]\n",
      "[ 241.31616703 -321.13345635]\n",
      "[ 328.55927703 -254.22153635]\n",
      "Época 3\n",
      "[ 297.13630703 -288.60528635]\n",
      "[ 247.22648703 -339.86571635]\n",
      "[ 274.69007703 -319.00936635]\n",
      "[ 324.15089703 -270.11531635]\n",
      "[ 295.94343703 -303.69943635]\n",
      "[ 383.07819703 -217.00960635]\n",
      "[ 331.16286703 -273.21062635]\n",
      "[ 266.27683703 -347.82671635]\n",
      "[ 355.98563703 -268.81799635]\n",
      "[ 278.52268703 -366.80570635]\n",
      "[ 323.42802703 -323.40176635]\n",
      "Época 4\n"
     ]
    }
   ],
   "source": [
    "w = np.random.uniform(low=-0.5,high=0.5,size=2)\n",
    "x = dataAll\n",
    "err = np.repeat(1, len(x)) #\n",
    "n = 0.1\n",
    "aj = 0\n",
    "print(\"Pesos iniciais:\",w)\n",
    "epoca = 0\n",
    "l = []\n",
    "while (np.isin(1, err)):\n",
    "    epoca += 1\n",
    "    print(\"Época\",epoca)\n",
    "    for i in range(len(x)):\n",
    "        yd = x[i][2]\n",
    "        xd = np.array([x[i][0],x[i][1]])\n",
    "        sigma = w[0]*xd[0]+w[1]*xd[1]\n",
    "        if (sigma >= 0): # função degrau\n",
    "            y = 1\n",
    "        else:\n",
    "            y = 0\n",
    "        if (y != yd):\n",
    "            err[i] = 1\n",
    "            aj += 1\n",
    "            w = w + n*(yd-y)*xd\n",
    "            print(w)\n",
    "        else:\n",
    "            err[i] = 0"
   ]
  },
  {
   "cell_type": "code",
   "execution_count": 4,
   "metadata": {},
   "outputs": [
    {
     "name": "stdout",
     "output_type": "stream",
     "text": [
      "Foram feitos 55 ajustes\n",
      "E se levaram 4 épocas\n"
     ]
    }
   ],
   "source": [
    "print(\"Foram feitos\",aj,\"ajustes\")\n",
    "print(\"E se levaram\",epoca,\"épocas\")\n",
    "\n",
    "# O número total de ajustes no vetor de pesos;\n",
    "# (b) O número de épocas até a convergência;\n",
    "# (c) O gráfico contendo todos os exemplos do conjunto de dados e a reta que separa as classes\n",
    "# obtida como resultado do treinamento do neurônio Perceptron. Respeitar o esquema de\n",
    "# cores proposto inicialmente e apresentar a solução de maneira clara neste gráfico.\n",
    "# x2 = 1.000369759x1"
   ]
  },
  {
   "cell_type": "markdown",
   "metadata": {},
   "source": [
    "# Parte II"
   ]
  },
  {
   "cell_type": "code",
   "execution_count": 5,
   "metadata": {},
   "outputs": [
    {
     "name": "stdout",
     "output_type": "stream",
     "text": [
      "Pesos iniciais: [-83.37742123 -96.61759454]\n",
      "Taxa de aprendizado: 0.4\n",
      "Intervalo: -100 100\n",
      "Pesos finais: [0.41688493 0.42883685]\n",
      "Épocas passadas: 100\n",
      "Quantidade de certos: 526 / 600\n",
      "\n",
      "Pesos iniciais: [0.80293458 0.96978233]\n",
      "Taxa de aprendizado: 0.4\n",
      "Intervalo: -1 1\n",
      "Pesos finais: [0.41255325 0.44509258]\n",
      "Épocas passadas: 100\n",
      "Quantidade de certos: 525 / 600\n",
      "\n",
      "Pesos iniciais: [-0.36969668 -0.30868345]\n",
      "Taxa de aprendizado: 0.4\n",
      "Intervalo: -0.5 0.5\n",
      "Pesos finais: [0.42297919 0.42499136]\n",
      "Épocas passadas: 100\n",
      "Quantidade de certos: 527 / 600\n",
      "\n",
      "Pesos iniciais: [78.41348029 55.08419566]\n",
      "Taxa de aprendizado: 0.1\n",
      "Intervalo: -100 100\n",
      "Pesos finais: [-0.00757824  0.0128617 ]\n",
      "Épocas passadas: 100\n",
      "Quantidade de certos: 526 / 600\n",
      "\n",
      "Pesos iniciais: [0.91409927 0.29249616]\n",
      "Taxa de aprendizado: 0.1\n",
      "Intervalo: -1 1\n",
      "Pesos finais: [0.08351078 0.11806696]\n",
      "Épocas passadas: 100\n",
      "Quantidade de certos: 527 / 600\n",
      "\n",
      "Pesos iniciais: [-0.29954241  0.04276265]\n",
      "Taxa de aprendizado: 0.1\n",
      "Intervalo: -0.5 0.5\n",
      "Pesos finais: [0.106535   0.10684224]\n",
      "Épocas passadas: 100\n",
      "Quantidade de certos: 526 / 600\n",
      "\n",
      "Pesos iniciais: [-49.53375989  52.7605196 ]\n",
      "Taxa de aprendizado: 0.01\n",
      "Intervalo: -100 100\n",
      "Pesos finais: [-37.78623551  53.16627733]\n",
      "Épocas passadas: 100\n",
      "Quantidade de certos: 518 / 600\n",
      "\n",
      "Pesos iniciais: [ 0.43563609 -0.7789012 ]\n",
      "Taxa de aprendizado: 0.01\n",
      "Intervalo: -1 1\n",
      "Pesos finais: [0.0102523  0.01092715]\n",
      "Épocas passadas: 100\n",
      "Quantidade de certos: 524 / 600\n",
      "\n",
      "Pesos iniciais: [-0.23568174 -0.27779513]\n",
      "Taxa de aprendizado: 0.01\n",
      "Intervalo: -0.5 0.5\n",
      "Pesos finais: [0.01048567 0.01067502]\n",
      "Épocas passadas: 100\n",
      "Quantidade de certos: 527 / 600\n",
      "\n"
     ]
    }
   ],
   "source": [
    "# Hiago - 1515280014\n",
    "# Alex - 1515080008\n",
    "\n",
    "archive = 'data' + str((4+8) % 4) + '.txt'\n",
    "data0 = np.fromfile(archive)\n",
    "len0 = int(len(data0)/3)\n",
    "data0 = np.reshape(data0, (len0,3))\n",
    "\n",
    "nl = [0.4,0.1,0.01]\n",
    "Il = [100, 1, 0.5]\n",
    "for N in nl:\n",
    "    for I in Il:\n",
    "        w = np.random.uniform(low=-I,high=I,size=2)\n",
    "        x = data0\n",
    "        err = np.repeat(1, len(x))\n",
    "        n = N\n",
    "        aj = 0\n",
    "        print(\"Pesos iniciais:\",w)\n",
    "        epoca = 0\n",
    "        l = []\n",
    "        while (np.isin(1, err) and epoca < 100):\n",
    "            epoca += 1\n",
    "            for i in range(len(x)):\n",
    "                yd = x[i][2]\n",
    "                xd = np.array([x[i][0],x[i][1]])\n",
    "                sigma = w[0]*xd[0]+w[1]*xd[1]\n",
    "                if (sigma >= 0): # função degrau\n",
    "                    y = 1\n",
    "                else:\n",
    "                    y = 0\n",
    "                if (y != yd):\n",
    "                    err[i] = 1\n",
    "                    aj += 1\n",
    "                    \n",
    "                    w = w + n*(yd-y)*xd\n",
    "                    #print(w)\n",
    "                else:\n",
    "                    err[i] = 0\n",
    "        print(\"Taxa de aprendizado:\",n)\n",
    "        print(\"Intervalo:\",-I,I)\n",
    "        print(\"Pesos finais:\",w)\n",
    "        print(\"Épocas passadas:\",epoca)\n",
    "        print(\"Quantidade de certos:\",np.count_nonzero(err == 0),\"/\",len(x))\n",
    "        print()"
   ]
  },
  {
   "cell_type": "markdown",
   "metadata": {},
   "source": [
    "# Parte III"
   ]
  },
  {
   "cell_type": "code",
   "execution_count": 6,
   "metadata": {},
   "outputs": [
    {
     "data": {
      "text/plain": [
       "array([[-0.29322959, -0.09065359,  1.        ],\n",
       "       [ 0.07988839,  0.21101297,  1.        ],\n",
       "       [-0.07825563, -0.08083512,  1.        ],\n",
       "       ...,\n",
       "       [ 0.65980493,  1.05876739,  0.        ],\n",
       "       [ 1.09867123,  0.87404891,  0.        ],\n",
       "       [ 0.72930655,  0.93224271,  0.        ]])"
      ]
     },
     "execution_count": 6,
     "metadata": {},
     "output_type": "execute_result"
    }
   ],
   "source": [
    "archive = 'dataHoldout.txt'\n",
    "dataH = np.fromfile(archive)\n",
    "dataH = np.reshape(dataH, (int(len(dataH)/3),3))\n",
    "dataH"
   ]
  },
  {
   "cell_type": "code",
   "execution_count": 7,
   "metadata": {},
   "outputs": [],
   "source": [
    "# Fazendo o split 70%-30%\n",
    "\n",
    "np.random.shuffle(dataH)\n",
    "\n",
    "# Define a size for your train set \n",
    "train_size = int(0.7 * len(dataH))\n",
    "\n",
    "# Split your dataset \n",
    "train_set = dataH[:train_size]\n",
    "test_set = dataH[train_size:]"
   ]
  },
  {
   "cell_type": "code",
   "execution_count": 8,
   "metadata": {},
   "outputs": [
    {
     "name": "stdout",
     "output_type": "stream",
     "text": [
      "Pesos iniciais: [-0.47159224  0.08074662]\n",
      "Pesos finais: [-0.08561795 -0.10776963]\n",
      "Quantidade de certos: 471 / 560\n"
     ]
    }
   ],
   "source": [
    "w = np.random.uniform(low=-1.0,high=1.0,size=2)\n",
    "x = train_set\n",
    "err = np.repeat(1, len(x))\n",
    "n = 0.1\n",
    "aj = 0\n",
    "print(\"Pesos iniciais:\",w)\n",
    "epoca = 0\n",
    "l = []\n",
    "while (np.isin(1, err) and epoca < 100):\n",
    "    epoca += 1\n",
    "    for i in range(len(x)):\n",
    "        yd = x[i][2]\n",
    "        xd = np.array([x[i][0],x[i][1]])\n",
    "        sigma = w[0]*xd[0]+w[1]*xd[1]\n",
    "        if (sigma >= 0): # função degrau\n",
    "            y = 1\n",
    "        else:\n",
    "            y = 0\n",
    "        if (y != yd):\n",
    "            err[i] = 1\n",
    "            aj += 1\n",
    "            \n",
    "            w = w + n*(yd-y)*xd\n",
    "            #print(w)\n",
    "        else:\n",
    "            err[i] = 0\n",
    "    np.random.shuffle(train_set)\n",
    "    # Randomizando o treinamento ao fim de cada época\n",
    "print(\"Pesos finais:\",w)\n",
    "print(\"Quantidade de certos:\",np.count_nonzero(err == 0),\"/\",len(x))"
   ]
  },
  {
   "cell_type": "code",
   "execution_count": 9,
   "metadata": {},
   "outputs": [
    {
     "name": "stdout",
     "output_type": "stream",
     "text": [
      "Quantidade de certos: 490 / 560\n"
     ]
    },
    {
     "data": {
      "text/plain": [
       "array([[ 56,   0],\n",
       "       [ 70, 434]])"
      ]
     },
     "execution_count": 9,
     "metadata": {},
     "output_type": "execute_result"
    }
   ],
   "source": [
    "x = train_set\n",
    "n = 0.1\n",
    "wrong = 0\n",
    "right = 0\n",
    "tp = 0\n",
    "tn = 0\n",
    "fp = 0\n",
    "fn = 0\n",
    "# Para cada um nos testes\n",
    "for i in range(len(x)):\n",
    "    yd = x[i][2]\n",
    "    xd = np.array([x[i][0],x[i][1]])\n",
    "    sigma = w[0]*xd[0]+w[1]*xd[1]\n",
    "    if (sigma >= 0): # função degrau\n",
    "        y = 1\n",
    "    else:\n",
    "        y = 0\n",
    "    if (y != yd):\n",
    "        wrong += 1\n",
    "        if (y == 1):\n",
    "            fp += 1\n",
    "        else:\n",
    "            fn += 1\n",
    "    else:\n",
    "        right += 1\n",
    "        if (y == 1):\n",
    "            tp += 1\n",
    "        else:\n",
    "            tn += 1\n",
    "confusion_matrix = np.array([[tp,fp],[fn, tn]])\n",
    "print(\"Quantidade de certos:\",right,\"/\",len(x))\n",
    "tpTrain = tp\n",
    "fpTrain = fp\n",
    "fnTrain = fn\n",
    "tnTrain = tn\n",
    "rightTrain = right\n",
    "confusion_matrix"
   ]
  },
  {
   "cell_type": "code",
   "execution_count": 10,
   "metadata": {},
   "outputs": [
    {
     "name": "stdout",
     "output_type": "stream",
     "text": [
      "Quantidade de certos: 204 / 240\n"
     ]
    },
    {
     "data": {
      "text/plain": [
       "array([[ 38,   0],\n",
       "       [ 36, 166]])"
      ]
     },
     "execution_count": 10,
     "metadata": {},
     "output_type": "execute_result"
    }
   ],
   "source": [
    "x = test_set\n",
    "n = 0.1\n",
    "wrong = 0\n",
    "right = 0\n",
    "tp = 0\n",
    "tn = 0\n",
    "fp = 0\n",
    "fn = 0\n",
    "# Para cada um nos testes\n",
    "for i in range(len(x)):\n",
    "    yd = x[i][2]\n",
    "    xd = np.array([x[i][0],x[i][1]])\n",
    "    sigma = w[0]*xd[0]+w[1]*xd[1]\n",
    "    if (sigma >= 0): # função degrau\n",
    "        y = 1\n",
    "    else:\n",
    "        y = 0\n",
    "    if (y != yd):\n",
    "        wrong += 1\n",
    "        if (y == 1):\n",
    "            fp += 1\n",
    "        else:\n",
    "            fn += 1\n",
    "    else:\n",
    "        right += 1\n",
    "        if (y == 1):\n",
    "            tp += 1\n",
    "        else:\n",
    "            tn += 1\n",
    "\n",
    "confusion_matrix = np.array([[tp,fp],[fn, tn]])\n",
    "tpTest = tp\n",
    "fpTest = fp\n",
    "fnTest = fn\n",
    "tnTest = tn\n",
    "print(\"Quantidade de certos:\",right,\"/\",len(x))\n",
    "confusion_matrix"
   ]
  },
  {
   "cell_type": "markdown",
   "metadata": {},
   "source": [
    "## Métricas de desempenho"
   ]
  },
  {
   "cell_type": "code",
   "execution_count": 11,
   "metadata": {},
   "outputs": [
    {
     "name": "stdout",
     "output_type": "stream",
     "text": [
      "Acurácia do treino: 0.875\n",
      "Precisão do treino: 1.0\n",
      "Revocação do treino: 0.4444444444444444\n",
      "F-Score do treino: 0.6153846153846153\n"
     ]
    }
   ],
   "source": [
    "# Qual a acurácia da solução proposta para os dados do conjunto de treinamento inicialmente fornecido?\n",
    "acTrain = rightTrain/train_size\n",
    "print(\"Acurácia do treino:\",acTrain)\n",
    "# Nos mesmos termos da questão anterior, obtenha os valores de precisão, revocação e F -Score;\n",
    "precTrain = tpTrain/(tpTrain+fpTrain)\n",
    "revoTrain = tpTrain/(tpTrain+fnTrain)\n",
    "FScoreTrain = (2*(precTrain*revoTrain))/(precTrain+revoTrain)\n",
    "print(\"Precisão do treino:\",precTrain)\n",
    "print(\"Revocação do treino:\",revoTrain)\n",
    "print(\"F-Score do treino:\",FScoreTrain)"
   ]
  },
  {
   "cell_type": "markdown",
   "metadata": {},
   "source": [
    "## A partir destas métricas, discorra acerca da qualidade desta solução perante o conjunto de testes.\n",
    "\n",
    "Apesar de uma acurácia e precisão boas, esta solução, no entanto, não é muito desejada. Quanto aos negativos, dos verdadeiramente negativos, não errou nenhum. Mas a solução tem precisão de 100% e revocação de 44%, isto indica que quando a solução diz que é positivo, é realmente positivo, mas ele tem muita dificuldade em identificar os verdadeiramente positivos, apesar de reconhecê-los quando os vê.\n",
    "\n",
    "O F-Score da solução não ajuda muito, tendo 0.615 de pontuação, o que não é muito desejável. Com as métricas em mãos, nossa equipe tomou a conclusão de que esta solução não é de boa qualidade perante o conjunto de testes."
   ]
  },
  {
   "cell_type": "code",
   "execution_count": null,
   "metadata": {},
   "outputs": [],
   "source": []
  }
 ],
 "metadata": {
  "kernelspec": {
   "display_name": "Python 3",
   "language": "python",
   "name": "python3"
  },
  "language_info": {
   "codemirror_mode": {
    "name": "ipython",
    "version": 3
   },
   "file_extension": ".py",
   "mimetype": "text/x-python",
   "name": "python",
   "nbconvert_exporter": "python",
   "pygments_lexer": "ipython3",
   "version": "3.7.6"
  }
 },
 "nbformat": 4,
 "nbformat_minor": 4
}
