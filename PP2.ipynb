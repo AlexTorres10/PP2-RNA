{
 "cells": [
  {
   "cell_type": "code",
   "execution_count": 1,
   "metadata": {},
   "outputs": [],
   "source": [
    "import numpy as np\n",
    "import matplotlib.pyplot as plt"
   ]
  },
  {
   "cell_type": "markdown",
   "metadata": {},
   "source": [
    "# Parte I"
   ]
  },
  {
   "cell_type": "code",
   "execution_count": 2,
   "metadata": {},
   "outputs": [
    {
     "data": {
      "text/plain": [
       "array([[[-363.7884,  244.1423,    0.    ]],\n",
       "\n",
       "       [[ 328.7572, -256.7658,    1.    ]],\n",
       "\n",
       "       [[-164.9827,  613.2164,    0.    ]],\n",
       "\n",
       "       ...,\n",
       "\n",
       "       [[ 872.4311,  669.1192,    1.    ]],\n",
       "\n",
       "       [[ 822.6894, -702.6489,    1.    ]],\n",
       "\n",
       "       [[-140.147 ,  734.0983,    0.    ]]])"
      ]
     },
     "execution_count": 2,
     "metadata": {},
     "output_type": "execute_result"
    }
   ],
   "source": [
    "archiveAll = 'dataAll.txt'\n",
    "dataAll = np.fromfile(archiveAll)\n",
    "lenAll = int(len(dataAll)/3)\n",
    "dataAll = np.reshape(dataAll, (lenAll,1,3))\n",
    "\n",
    "dataAll"
   ]
  },
  {
   "cell_type": "code",
   "execution_count": 3,
   "metadata": {},
   "outputs": [
    {
     "name": "stdout",
     "output_type": "stream",
     "text": [
      "Pesos iniciais: [-2.75298470e-01 -2.61247544e-04]\n",
      "Época 1\n",
      "[ 36.10354153 -24.41449125]\n",
      "[ -17.55550847 -100.91024125]\n",
      "[ 55.24051153 -65.08068125]\n",
      "[137.83921153  14.77514875]\n",
      "[143.68497153 -63.51944125]\n",
      "[ 103.67606153 -141.41213125]\n",
      "[157.34587153 -92.31986125]\n",
      "[ 104.38581153 -149.18932125]\n",
      "[163.94533153 -99.06699125]\n",
      "[ 118.42070153 -164.70292125]\n",
      "[209.13656153 -89.98960125]\n",
      "[ 151.35557153 -150.29775125]\n",
      "[ 103.08901153 -198.76747125]\n",
      "[ 173.53636153 -156.65120125]\n",
      "[ 126.69436153 -208.06107125]\n",
      "[ 196.55799153 -143.84213125]\n",
      "[ 140.72226153 -200.01966125]\n",
      "[ 217.70973153 -135.17033125]\n",
      "[ 181.43969153 -178.39837125]\n",
      "[ 163.20055153 -196.73201125]\n",
      "[ 238.62299153 -130.67690125]\n",
      "[ 174.26386153 -213.09934125]\n",
      "[ 265.57207153 -129.82857125]\n",
      "[ 218.52724153 -217.73251125]\n",
      "Época 2\n"
     ]
    }
   ],
   "source": [
    "w = np.random.uniform(low=-0.5,high=0.5,size=2)\n",
    "x = dataAll\n",
    "err = np.repeat(1, len(x)) #\n",
    "n = 0.1\n",
    "aj = 0\n",
    "print(\"Pesos iniciais:\",w)\n",
    "epoca = 0\n",
    "l = []\n",
    "while (np.isin(1, err)):\n",
    "    epoca += 1\n",
    "    print(\"Época\",epoca)\n",
    "    for i in range(len(x)):\n",
    "        yd = x[i][0][2]\n",
    "        xd = np.array([x[i][0][0],x[i][0][1]])\n",
    "        sigma = w[0]*xd[0]+w[1]*xd[1]\n",
    "        if (sigma >= 0): # função degrau\n",
    "            y = 1\n",
    "        else:\n",
    "            y = 0\n",
    "        if (y != yd):\n",
    "            err[i] = 1\n",
    "            aj += 1\n",
    "            w = w + n*(yd-y)*xd\n",
    "            print(w)\n",
    "        else:\n",
    "            err[i] = 0"
   ]
  },
  {
   "cell_type": "code",
   "execution_count": 4,
   "metadata": {},
   "outputs": [
    {
     "name": "stdout",
     "output_type": "stream",
     "text": [
      "Foram feitos 24 ajustes\n",
      "E se levaram 2 épocas\n"
     ]
    }
   ],
   "source": [
    "print(\"Foram feitos\",aj,\"ajustes\")\n",
    "print(\"E se levaram\",epoca,\"épocas\")\n",
    "\n",
    "# O número total de ajustes no vetor de pesos;\n",
    "# (b) O número de épocas até a convergência;\n",
    "# (c) O gráfico contendo todos os exemplos do conjunto de dados e a reta que separa as classes\n",
    "# obtida como resultado do treinamento do neurônio Perceptron. Respeitar o esquema de\n",
    "# cores proposto inicialmente e apresentar a solução de maneira clara neste gráfico.\n",
    "# x2 = 1.000369759x1"
   ]
  },
  {
   "cell_type": "markdown",
   "metadata": {},
   "source": [
    "# Parte II"
   ]
  },
  {
   "cell_type": "code",
   "execution_count": 6,
   "metadata": {},
   "outputs": [
    {
     "name": "stdout",
     "output_type": "stream",
     "text": [
      "Pesos iniciais: [-83.13451716 -16.69239628]\n",
      "Taxa de aprendizado: 0.4\n",
      "Intervalo: -100 100\n",
      "Pesos finais: [0.42080714 0.42754626]\n",
      "Épocas passadas: 100\n",
      "Quantos ainda restavam: 526\n",
      "\n",
      "Pesos iniciais: [-0.95133246  0.01600246]\n",
      "Taxa de aprendizado: 0.4\n",
      "Intervalo: -1 1\n",
      "Pesos finais: [0.4112164  0.44020328]\n",
      "Épocas passadas: 100\n",
      "Quantos ainda restavam: 529\n",
      "\n",
      "Pesos iniciais: [-0.33188495  0.23174864]\n",
      "Taxa de aprendizado: 0.4\n",
      "Intervalo: -0.5 0.5\n",
      "Pesos finais: [0.40915987 0.43481106]\n",
      "Épocas passadas: 100\n",
      "Quantos ainda restavam: 525\n",
      "\n",
      "Pesos iniciais: [-86.98204066 -47.80108338]\n",
      "Taxa de aprendizado: 0.1\n",
      "Intervalo: -100 100\n",
      "Pesos finais: [0.10241741 0.10825773]\n",
      "Épocas passadas: 100\n",
      "Quantos ainda restavam: 525\n",
      "\n",
      "Pesos iniciais: [ 0.38723255 -0.66137604]\n",
      "Taxa de aprendizado: 0.1\n",
      "Intervalo: -1 1\n",
      "Pesos finais: [0.10275159 0.10946074]\n",
      "Épocas passadas: 100\n",
      "Quantos ainda restavam: 526\n",
      "\n",
      "Pesos iniciais: [-0.20502279  0.00396405]\n",
      "Taxa de aprendizado: 0.1\n",
      "Intervalo: -0.5 0.5\n",
      "Pesos finais: [0.10112106 0.11080515]\n",
      "Épocas passadas: 100\n",
      "Quantos ainda restavam: 523\n",
      "\n",
      "Pesos iniciais: [ 98.45559958 -81.72511381]\n",
      "Taxa de aprendizado: 0.01\n",
      "Intervalo: -100 100\n",
      "Pesos finais: [0.0106332  0.01067411]\n",
      "Épocas passadas: 100\n",
      "Quantos ainda restavam: 526\n",
      "\n",
      "Pesos iniciais: [0.10273465 0.1730234 ]\n",
      "Taxa de aprendizado: 0.01\n",
      "Intervalo: -1 1\n",
      "Pesos finais: [-0.00079152  0.00121561]\n",
      "Épocas passadas: 100\n",
      "Quantos ainda restavam: 526\n",
      "\n",
      "Pesos iniciais: [-0.25719815 -0.04990835]\n",
      "Taxa de aprendizado: 0.01\n",
      "Intervalo: -0.5 0.5\n",
      "Pesos finais: [-0.00077124  0.00123617]\n",
      "Épocas passadas: 100\n",
      "Quantos ainda restavam: 525\n",
      "\n"
     ]
    }
   ],
   "source": [
    "# Hiago - 1515280014\n",
    "# Alex - 1515080008\n",
    "\n",
    "archive = 'data' + str((4+8) % 4) + '.txt'\n",
    "data0 = np.fromfile(archive)\n",
    "len0 = int(len(data0)/3)\n",
    "data0 = np.reshape(data0, (len0,1,3))\n",
    "\n",
    "nl = [0.4,0.1,0.01]\n",
    "Il = [100, 1, 0.5]\n",
    "for N in nl:\n",
    "    for I in Il:\n",
    "        w = np.random.uniform(low=-I,high=I,size=2)\n",
    "        x = data0\n",
    "        err = np.repeat(1, len(x))\n",
    "        n = N\n",
    "        aj = 0\n",
    "        print(\"Pesos iniciais:\",w)\n",
    "        epoca = 0\n",
    "        l = []\n",
    "        while (np.isin(1, err) and epoca < 100):\n",
    "            epoca += 1\n",
    "            for i in range(len(x)):\n",
    "                yd = x[i][0][2]\n",
    "                xd = np.array([x[i][0][0],x[i][0][1]])\n",
    "                sigma = w[0]*xd[0]+w[1]*xd[1]\n",
    "                if (sigma >= 0): # função degrau\n",
    "                    y = 1\n",
    "                else:\n",
    "                    y = 0\n",
    "                if (y != yd):\n",
    "                    err[i] = 1\n",
    "                    aj += 1\n",
    "                    \n",
    "                    w = w + n*(yd-y)*xd\n",
    "                    #print(w)\n",
    "                else:\n",
    "                    err[i] = 0\n",
    "        print(\"Taxa de aprendizado:\",n)\n",
    "        print(\"Intervalo:\",-I,I)\n",
    "        print(\"Pesos finais:\",w)\n",
    "        print(\"Épocas passadas:\",epoca)\n",
    "        print(\"Quantos ainda restavam:\",np.count_nonzero(err == 0))\n",
    "        print()"
   ]
  },
  {
   "cell_type": "code",
   "execution_count": null,
   "metadata": {},
   "outputs": [],
   "source": []
  }
 ],
 "metadata": {
  "kernelspec": {
   "display_name": "Python 3",
   "language": "python",
   "name": "python3"
  },
  "language_info": {
   "codemirror_mode": {
    "name": "ipython",
    "version": 3
   },
   "file_extension": ".py",
   "mimetype": "text/x-python",
   "name": "python",
   "nbconvert_exporter": "python",
   "pygments_lexer": "ipython3",
   "version": "3.7.6"
  }
 },
 "nbformat": 4,
 "nbformat_minor": 4
}
