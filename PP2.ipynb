{
 "cells": [
  {
   "cell_type": "code",
   "execution_count": 1,
   "metadata": {},
   "outputs": [],
   "source": [
    "import numpy as np\n",
    "import matplotlib.pyplot as plt"
   ]
  },
  {
   "cell_type": "markdown",
   "metadata": {},
   "source": [
    "# Parte I"
   ]
  },
  {
   "cell_type": "code",
   "execution_count": 2,
   "metadata": {},
   "outputs": [
    {
     "data": {
      "text/plain": [
       "array([[[-363.7884,  244.1423,    0.    ]],\n",
       "\n",
       "       [[ 328.7572, -256.7658,    1.    ]],\n",
       "\n",
       "       [[-164.9827,  613.2164,    0.    ]],\n",
       "\n",
       "       ...,\n",
       "\n",
       "       [[ 872.4311,  669.1192,    1.    ]],\n",
       "\n",
       "       [[ 822.6894, -702.6489,    1.    ]],\n",
       "\n",
       "       [[-140.147 ,  734.0983,    0.    ]]])"
      ]
     },
     "execution_count": 2,
     "metadata": {},
     "output_type": "execute_result"
    }
   ],
   "source": [
    "archiveAll = 'dataAll.txt'\n",
    "dataAll = np.fromfile(archiveAll)\n",
    "lenAll = int(len(dataAll)/3)\n",
    "dataAll = np.reshape(dataAll, (lenAll,1,3))\n",
    "\n",
    "dataAll"
   ]
  },
  {
   "cell_type": "code",
   "execution_count": 3,
   "metadata": {},
   "outputs": [
    {
     "name": "stdout",
     "output_type": "stream",
     "text": [
      "Pesos iniciais: [0.12103506 0.49200694]\n",
      "Época 1\n",
      "[ 36.49987506 -23.92222306]\n",
      "[ -17.15917494 -100.41797306]\n",
      "[ 55.63684506 -64.58841306]\n",
      "[138.23554506  15.26741694]\n",
      "[144.08130506 -63.02717306]\n",
      "[ 104.07239506 -140.91986306]\n",
      "[157.74220506 -91.82759306]\n",
      "[ 104.78214506 -148.69705306]\n",
      "[164.34166506 -98.57472306]\n",
      "[ 118.81703506 -164.21065306]\n",
      "[209.53289506 -89.49733306]\n",
      "[ 151.75190506 -149.80548306]\n",
      "[ 103.48534506 -198.27520306]\n",
      "[ 173.93269506 -156.15893306]\n",
      "[ 127.09069506 -207.56880306]\n",
      "[ 196.95432506 -143.34986306]\n",
      "[ 141.11859506 -199.52739306]\n",
      "[ 218.10606506 -134.67806306]\n",
      "[ 181.83602506 -177.90610306]\n",
      "[ 163.59688506 -196.23974306]\n",
      "[ 239.01932506 -130.18463306]\n",
      "[ 174.66019506 -212.60707306]\n",
      "[ 265.96840506 -129.33630306]\n",
      "[ 218.92357506 -217.24024306]\n",
      "Época 2\n",
      "[ 170.65701506 -265.70996306]\n",
      "[ 240.52064506 -201.49102306]\n",
      "[ 184.68491506 -257.66855306]\n",
      "[ 261.67238506 -192.81922306]\n",
      "[ 225.40234506 -236.04726306]\n",
      "[ 308.29421506 -153.26577306]\n",
      "[ 262.14683506 -209.91515306]\n",
      "[ 235.52121506 -242.43752306]\n",
      "[ 282.54557506 -195.88335306]\n",
      "[ 252.66151506 -228.99268306]\n",
      "[ 234.42237506 -247.32632306]\n",
      "[ 265.72925506 -216.69800306]\n",
      "[ 190.17535506 -294.02095306]\n",
      "[ 259.15124506 -229.23002306]\n",
      "[ 163.33969506 -327.11176306]\n",
      "[ 244.51342506 -275.76382306]\n",
      "[ 343.98125506 -183.87426306]\n",
      "[ 285.27633506 -276.21151306]\n",
      "[ 241.41820506 -320.75052306]\n",
      "[ 328.66131506 -253.83860306]\n",
      "Época 3\n",
      "[ 297.23834506 -288.22235306]\n",
      "[ 247.32852506 -339.48278306]\n",
      "[ 274.79211506 -318.62643306]\n",
      "[ 324.25293506 -269.73238306]\n",
      "[ 296.04547506 -303.31650306]\n",
      "[ 383.18023506 -216.62667306]\n",
      "[ 331.26490506 -272.82769306]\n",
      "[ 266.37887506 -347.44378306]\n",
      "[ 356.08767506 -268.43506306]\n",
      "[ 278.62472506 -366.42277306]\n",
      "[ 323.53006506 -323.01883306]\n",
      "Época 4\n"
     ]
    }
   ],
   "source": [
    "w = np.random.uniform(low=-0.5,high=0.5,size=2)\n",
    "x = dataAll\n",
    "err = np.repeat(1, len(x)) #\n",
    "n = 0.1\n",
    "aj = 0\n",
    "print(\"Pesos iniciais:\",w)\n",
    "epoca = 0\n",
    "l = []\n",
    "while (np.isin(1, err)):\n",
    "    epoca += 1\n",
    "    print(\"Época\",epoca)\n",
    "    for i in range(len(x)):\n",
    "        yd = x[i][0][2]\n",
    "        xd = np.array([x[i][0][0],x[i][0][1]])\n",
    "        sigma = w[0]*xd[0]+w[1]*xd[1]\n",
    "        if (sigma >= 0): # função degrau\n",
    "            y = 1\n",
    "        else:\n",
    "            y = 0\n",
    "        if (y != yd):\n",
    "            err[i] = 1\n",
    "            aj += 1\n",
    "            w = w + n*(yd-y)*xd\n",
    "            print(w)\n",
    "        else:\n",
    "            err[i] = 0"
   ]
  },
  {
   "cell_type": "code",
   "execution_count": 4,
   "metadata": {},
   "outputs": [
    {
     "name": "stdout",
     "output_type": "stream",
     "text": [
      "Foram feitos 55 ajustes\n",
      "E se levaram 4 épocas\n"
     ]
    }
   ],
   "source": [
    "print(\"Foram feitos\",aj,\"ajustes\")\n",
    "print(\"E se levaram\",epoca,\"épocas\")\n",
    "\n",
    "# O número total de ajustes no vetor de pesos;\n",
    "# (b) O número de épocas até a convergência;\n",
    "# (c) O gráfico contendo todos os exemplos do conjunto de dados e a reta que separa as classes\n",
    "# obtida como resultado do treinamento do neurônio Perceptron. Respeitar o esquema de\n",
    "# cores proposto inicialmente e apresentar a solução de maneira clara neste gráfico.\n",
    "# x2 = 1.000369759x1"
   ]
  },
  {
   "cell_type": "markdown",
   "metadata": {},
   "source": [
    "# Parte II"
   ]
  },
  {
   "cell_type": "code",
   "execution_count": 5,
   "metadata": {},
   "outputs": [
    {
     "name": "stdout",
     "output_type": "stream",
     "text": [
      "Pesos iniciais: [ 79.57682099 -61.97722131]\n",
      "Taxa de aprendizado: 0.4\n",
      "Intervalo: -100 100\n",
      "Pesos finais: [0.40963762 0.44301314]\n",
      "Épocas passadas: 100\n",
      "Quantidade de certos: 530 / 600\n",
      "\n",
      "Pesos iniciais: [-0.31912802 -0.24087794]\n",
      "Taxa de aprendizado: 0.4\n",
      "Intervalo: -1 1\n",
      "Pesos finais: [0.41875702 0.43799295]\n",
      "Épocas passadas: 100\n",
      "Quantidade de certos: 524 / 600\n",
      "\n",
      "Pesos iniciais: [ 0.47859959 -0.08407469]\n",
      "Taxa de aprendizado: 0.4\n",
      "Intervalo: -0.5 0.5\n",
      "Pesos finais: [0.41201115 0.43713778]\n",
      "Épocas passadas: 100\n",
      "Quantidade de certos: 526 / 600\n",
      "\n",
      "Pesos iniciais: [25.06708549 41.61447349]\n",
      "Taxa de aprendizado: 0.1\n",
      "Intervalo: -100 100\n",
      "Pesos finais: [0.10605616 0.10679552]\n",
      "Épocas passadas: 100\n",
      "Quantidade de certos: 529 / 600\n",
      "\n",
      "Pesos iniciais: [-0.47141521 -0.32071714]\n",
      "Taxa de aprendizado: 0.1\n",
      "Intervalo: -1 1\n",
      "Pesos finais: [0.10567801 0.10662734]\n",
      "Épocas passadas: 100\n",
      "Quantidade de certos: 529 / 600\n",
      "\n",
      "Pesos iniciais: [0.36680445 0.27364768]\n",
      "Taxa de aprendizado: 0.1\n",
      "Intervalo: -0.5 0.5\n",
      "Pesos finais: [0.10290285 0.10924304]\n",
      "Épocas passadas: 100\n",
      "Quantidade de certos: 526 / 600\n",
      "\n",
      "Pesos iniciais: [ 57.27020985 -12.09084903]\n",
      "Taxa de aprendizado: 0.01\n",
      "Intervalo: -100 100\n",
      "Pesos finais: [-0.0520167   0.15967479]\n",
      "Épocas passadas: 100\n",
      "Quantidade de certos: 520 / 600\n",
      "\n",
      "Pesos iniciais: [-0.20752943  0.40204786]\n",
      "Taxa de aprendizado: 0.01\n",
      "Intervalo: -1 1\n",
      "Pesos finais: [0.0103168  0.01113266]\n",
      "Épocas passadas: 100\n",
      "Quantidade de certos: 525 / 600\n",
      "\n",
      "Pesos iniciais: [-0.06115085  0.04778481]\n",
      "Taxa de aprendizado: 0.01\n",
      "Intervalo: -0.5 0.5\n",
      "Pesos finais: [0.00787136 0.01235715]\n",
      "Épocas passadas: 100\n",
      "Quantidade de certos: 525 / 600\n",
      "\n"
     ]
    }
   ],
   "source": [
    "# Hiago - 1515280014\n",
    "# Alex - 1515080008\n",
    "\n",
    "archive = 'data' + str((4+8) % 4) + '.txt'\n",
    "data0 = np.fromfile(archive)\n",
    "len0 = int(len(data0)/3)\n",
    "data0 = np.reshape(data0, (len0,1,3))\n",
    "\n",
    "nl = [0.4,0.1,0.01]\n",
    "Il = [100, 1, 0.5]\n",
    "for N in nl:\n",
    "    for I in Il:\n",
    "        w = np.random.uniform(low=-I,high=I,size=2)\n",
    "        x = data0\n",
    "        err = np.repeat(1, len(x))\n",
    "        n = N\n",
    "        aj = 0\n",
    "        print(\"Pesos iniciais:\",w)\n",
    "        epoca = 0\n",
    "        l = []\n",
    "        while (np.isin(1, err) and epoca < 100):\n",
    "            epoca += 1\n",
    "            for i in range(len(x)):\n",
    "                yd = x[i][0][2]\n",
    "                xd = np.array([x[i][0][0],x[i][0][1]])\n",
    "                sigma = w[0]*xd[0]+w[1]*xd[1]\n",
    "                if (sigma >= 0): # função degrau\n",
    "                    y = 1\n",
    "                else:\n",
    "                    y = 0\n",
    "                if (y != yd):\n",
    "                    err[i] = 1\n",
    "                    aj += 1\n",
    "                    \n",
    "                    w = w + n*(yd-y)*xd\n",
    "                    #print(w)\n",
    "                else:\n",
    "                    err[i] = 0\n",
    "        print(\"Taxa de aprendizado:\",n)\n",
    "        print(\"Intervalo:\",-I,I)\n",
    "        print(\"Pesos finais:\",w)\n",
    "        print(\"Épocas passadas:\",epoca)\n",
    "        print(\"Quantidade de certos:\",np.count_nonzero(err == 0),\"/\",len(x))\n",
    "        print()"
   ]
  },
  {
   "cell_type": "code",
   "execution_count": null,
   "metadata": {},
   "outputs": [],
   "source": []
  }
 ],
 "metadata": {
  "kernelspec": {
   "display_name": "Python 3",
   "language": "python",
   "name": "python3"
  },
  "language_info": {
   "codemirror_mode": {
    "name": "ipython",
    "version": 3
   },
   "file_extension": ".py",
   "mimetype": "text/x-python",
   "name": "python",
   "nbconvert_exporter": "python",
   "pygments_lexer": "ipython3",
   "version": "3.7.6"
  }
 },
 "nbformat": 4,
 "nbformat_minor": 4
}
