{
  "nbformat": 4,
  "nbformat_minor": 0,
  "metadata": {
    "colab": {
      "name": "Parte01.ipynb",
      "provenance": [],
      "collapsed_sections": [],
      "include_colab_link": true
    },
    "kernelspec": {
      "name": "python3",
      "display_name": "Python 3"
    }
  },
  "cells": [
    {
      "cell_type": "markdown",
      "metadata": {
        "id": "view-in-github",
        "colab_type": "text"
      },
      "source": [
        "<a href=\"https://colab.research.google.com/github/AlexTorres10/PP2-RNA/blob/master/Parte01.ipynb\" target=\"_parent\"><img src=\"https://colab.research.google.com/assets/colab-badge.svg\" alt=\"Open In Colab\"/></a>"
      ]
    },
    {
      "cell_type": "markdown",
      "metadata": {
        "id": "maLdnAFn69UD",
        "colab_type": "text"
      },
      "source": [
        "### Montando o google drive\n"
      ]
    },
    {
      "cell_type": "code",
      "metadata": {
        "id": "eao8hJK_7EZf",
        "colab_type": "code",
        "colab": {}
      },
      "source": [
        "from google.colab import drive\n",
        "drive.mount('/gdrive/')"
      ],
      "execution_count": null,
      "outputs": []
    },
    {
      "cell_type": "markdown",
      "metadata": {
        "id": "SeDHjXiB6FlB",
        "colab_type": "text"
      },
      "source": [
        "### Leitura do conjunto de dados\n"
      ]
    },
    {
      "cell_type": "code",
      "metadata": {
        "id": "1u-NAPTTV6D3",
        "colab_type": "code",
        "colab": {
          "base_uri": "https://localhost:8080/",
          "height": 34
        },
        "outputId": "1d59e7b2-f726-4c7d-9d4a-67b23b588db3"
      },
      "source": [
        "import numpy as np\n",
        "from random import uniform \n",
        "\n",
        "def init_pesos():\n",
        "    return np.array([uniform(-0.5, 0.5), uniform(-0.5, 0.5), uniform(-0.5, 0.5)])\n",
        "\n",
        "def funcao_ativacao(u):\n",
        "    teta = 0.0\n",
        "    return 1.0 if u >= teta else 0.0\n",
        "\n",
        "def funcao_delta(entradas, pesos, taxa, erro):\n",
        "    w = entradas + ((taxa*erro) * pesos)\n",
        "    print(w)\n",
        "\n",
        "def init(data):\n",
        "    pesos = init_pesos()\n",
        "    \n",
        "    inputs = data[:2]\n",
        "    saida_desejada = data[2]\n",
        "    vies = np.array([-1])\n",
        "    entradas = np.concatenate((inputs, vies))\n",
        "    \n",
        "    somatorio = np.array(pesos*entradas).sum() \n",
        "\n",
        "    \n",
        "    saida = funcao_ativacao(somatorio)\n",
        "        \n",
        "    print(('' if saida == saida_desejada else 'não ') + 'ativado')\n",
        "    \n",
        "if __name__ == '__main__':\n",
        "    data = np.fromfile('/gdrive/My Drive/Colab Notebooks/PP2-RNA/dataAll.txt')\n",
        "    data = data.reshape(int(data.shape[0]//3),3)\n",
        "    init(data[0])"
      ],
      "execution_count": 8,
      "outputs": [
        {
          "output_type": "stream",
          "text": [
            "ativado\n"
          ],
          "name": "stdout"
        }
      ]
    },
    {
      "cell_type": "code",
      "metadata": {
        "id": "-ATdAPgj5-Vr",
        "colab_type": "code",
        "colab": {}
      },
      "source": [
        "import numpy as np\n",
        "\n",
        "url = '/gdrive/My Drive/Colab Notebooks/PP2-RNA/data0.txt'\n",
        "\n",
        "data = np.fromfile(url)\n",
        "\n",
        "# Dando reshape no data\n",
        "data = np.reshape(data,(int(len(data)/3),1,3))"
      ],
      "execution_count": null,
      "outputs": []
    },
    {
      "cell_type": "code",
      "metadata": {
        "id": "k5sth2qG_ugk",
        "colab_type": "code",
        "colab": {}
      },
      "source": [
        "archiveAll = '/gdrive/My Drive/Colab Notebooks/PP2-RNA/dataAll.txt'\n",
        "dataAll = np.fromfile(archiveAll)\n",
        "lenAll = int(len(fc)/3)\n",
        "# Dando reshape no DataAll\n",
        "dataAll = np.reshape((dataAll, (int(lenAll)),1,3))\n",
        "\n",
        "dataAll"
      ],
      "execution_count": null,
      "outputs": []
    },
    {
      "cell_type": "code",
      "metadata": {
        "id": "fSnI6G4J_xyb",
        "colab_type": "code",
        "colab": {}
      },
      "source": [
        "weights = np.random.uniform(low=-0.5,high=0.5,size=2)\n"
      ],
      "execution_count": null,
      "outputs": []
    }
  ]
}