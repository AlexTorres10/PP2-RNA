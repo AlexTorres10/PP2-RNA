{
  "nbformat": 4,
  "nbformat_minor": 0,
  "metadata": {
    "colab": {
      "name": "Parte01.ipynb",
      "provenance": [],
      "include_colab_link": true
    },
    "kernelspec": {
      "name": "python3",
      "display_name": "Python 3"
    }
  },
  "cells": [
    {
      "cell_type": "markdown",
      "metadata": {
        "id": "view-in-github",
        "colab_type": "text"
      },
      "source": [
        "<a href=\"https://colab.research.google.com/github/AlexTorres10/PP2-RNA/blob/master/Parte01.ipynb\" target=\"_parent\"><img src=\"https://colab.research.google.com/assets/colab-badge.svg\" alt=\"Open In Colab\"/></a>"
      ]
    },
    {
      "cell_type": "markdown",
      "metadata": {
        "id": "maLdnAFn69UD",
        "colab_type": "text"
      },
      "source": [
        "### Montando o google drive\n"
      ]
    },
    {
      "cell_type": "code",
      "metadata": {
        "id": "eao8hJK_7EZf",
        "colab_type": "code",
        "colab": {}
      },
      "source": [
        "from google.colab import drive\n",
        "drive.mount('/gdrive/')"
      ],
      "execution_count": null,
      "outputs": []
    },
    {
      "cell_type": "markdown",
      "metadata": {
        "id": "SeDHjXiB6FlB",
        "colab_type": "text"
      },
      "source": [
        "### Leitura do conjunto de dados\n"
      ]
    },
    {
      "cell_type": "code",
      "metadata": {
        "id": "-ATdAPgj5-Vr",
        "colab_type": "code",
        "colab": {}
      },
      "source": [
        "import numpy as np\n",
        "\n",
        "url = '/gdrive/My Drive/Colab Notebooks/PP2-RNA/data0.txt'\n",
        "\n",
        "data = np.fromfile(url)\n",
        "\n",
        "data = \n",
        "\n",
        "archiveAll = '/gdrive/My Drive/Colab Notebooks/PP2-RNA/dataAll.txt'\n",
        "dataAll = np.fromfile(archiveAll)\n",
        "lenAll = int(len(fc)/3)\n",
        "dataAll = np.reshape(fc, (int(len(fc)/3),1,3))\n",
        "\n",
        "dataAll"
      ],
      "execution_count": null,
      "outputs": []
    }
  ]
}