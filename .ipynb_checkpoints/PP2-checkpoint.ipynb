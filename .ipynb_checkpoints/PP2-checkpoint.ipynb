{
 "cells": [
  {
   "cell_type": "code",
   "execution_count": 2,
   "metadata": {},
   "outputs": [],
   "source": [
    "import numpy as np\n",
    "import matplotlib.pyplot as plt"
   ]
  },
  {
   "cell_type": "markdown",
   "metadata": {},
   "source": [
    "# Parte I"
   ]
  },
  {
   "cell_type": "code",
   "execution_count": 3,
   "metadata": {},
   "outputs": [
    {
     "data": {
      "text/plain": [
       "array([[-363.7884,  244.1423,    0.    ],\n",
       "       [ 328.7572, -256.7658,    1.    ],\n",
       "       [-164.9827,  613.2164,    0.    ],\n",
       "       ...,\n",
       "       [ 872.4311,  669.1192,    1.    ],\n",
       "       [ 822.6894, -702.6489,    1.    ],\n",
       "       [-140.147 ,  734.0983,    0.    ]])"
      ]
     },
     "execution_count": 3,
     "metadata": {},
     "output_type": "execute_result"
    }
   ],
   "source": [
    "archiveAll = 'dataAll.txt'\n",
    "dataAll = np.fromfile(archiveAll)\n",
    "lenAll = int(len(dataAll)/3)\n",
    "dataAll = np.reshape(dataAll, (lenAll,3)) \n",
    "# Eu sei que é (m,1,3), mas na prática não vimos muita diferença então colocamos (m,3)\n",
    "\n",
    "dataAll"
   ]
  },
  {
   "cell_type": "code",
   "execution_count": 4,
   "metadata": {},
   "outputs": [
    {
     "name": "stdout",
     "output_type": "stream",
     "text": [
      "Pesos iniciais: [-0.00677556  0.15145906]\n",
      "Época 1\n",
      "[ 36.37206444 -24.26277094]\n",
      "[ -17.28698556 -100.75852094]\n",
      "[ 55.50903444 -64.92896094]\n",
      "[138.10773444  14.92686906]\n",
      "[143.95349444 -63.36772094]\n",
      "[ 103.94458444 -141.26041094]\n",
      "[157.61439444 -92.16814094]\n",
      "[ 104.65433444 -149.03760094]\n",
      "[164.21385444 -98.91527094]\n",
      "[ 118.68922444 -164.55120094]\n",
      "[209.40508444 -89.83788094]\n",
      "[ 151.62409444 -150.14603094]\n",
      "[ 103.35753444 -198.61575094]\n",
      "[ 173.80488444 -156.49948094]\n",
      "[ 126.96288444 -207.90935094]\n",
      "[ 196.82651444 -143.69041094]\n",
      "[ 140.99078444 -199.86794094]\n",
      "[ 217.97825444 -135.01861094]\n",
      "[ 181.70821444 -178.24665094]\n",
      "[ 163.46907444 -196.58029094]\n",
      "[ 238.89151444 -130.52518094]\n",
      "[ 174.53238444 -212.94762094]\n",
      "[ 265.84059444 -129.67685094]\n",
      "[ 218.79576444 -217.58079094]\n",
      "Época 2\n",
      "[ 170.52920444 -266.05051094]\n",
      "[ 240.39283444 -201.83157094]\n",
      "[ 184.55710444 -258.00910094]\n",
      "[ 261.54457444 -193.15977094]\n",
      "[ 225.27453444 -236.38781094]\n",
      "[ 308.16640444 -153.60632094]\n",
      "[ 262.01902444 -210.25570094]\n",
      "[ 235.39340444 -242.77807094]\n",
      "[ 282.41776444 -196.22390094]\n",
      "[ 252.53370444 -229.33323094]\n",
      "[ 234.29456444 -247.66687094]\n",
      "[ 265.60144444 -217.03855094]\n",
      "[ 190.04754444 -294.36150094]\n",
      "[ 259.02343444 -229.57057094]\n",
      "[ 163.21188444 -327.45231094]\n",
      "[ 244.38561444 -276.10437094]\n",
      "[ 343.85344444 -184.21481094]\n",
      "[ 285.14852444 -276.55206094]\n",
      "[ 241.29039444 -321.09107094]\n",
      "[ 328.53350444 -254.17915094]\n",
      "Época 3\n",
      "[ 297.11053444 -288.56290094]\n",
      "[ 247.20071444 -339.82333094]\n",
      "[ 274.66430444 -318.96698094]\n",
      "[ 324.12512444 -270.07293094]\n",
      "[ 295.91766444 -303.65705094]\n",
      "[ 383.05242444 -216.96722094]\n",
      "[ 331.13709444 -273.16824094]\n",
      "[ 266.25106444 -347.78433094]\n",
      "[ 355.95986444 -268.77561094]\n",
      "[ 278.49691444 -366.76332094]\n",
      "[ 323.40225444 -323.35938094]\n",
      "Época 4\n"
     ]
    }
   ],
   "source": [
    "w = np.random.uniform(low=-0.5,high=0.5,size=2)\n",
    "x = dataAll\n",
    "err = np.repeat(1, len(x)) #\n",
    "n = 0.1\n",
    "aj = 0\n",
    "print(\"Pesos iniciais:\",w)\n",
    "epoca = 0\n",
    "l = []\n",
    "while (np.isin(1, err)):\n",
    "    epoca += 1\n",
    "    print(\"Época\",epoca)\n",
    "    for i in range(len(x)):\n",
    "        yd = x[i][2]\n",
    "        xd = np.array([x[i][0],x[i][1]])\n",
    "        sigma = w[0]*xd[0]+w[1]*xd[1]\n",
    "        if (sigma >= 0): # função degrau\n",
    "            y = 1\n",
    "        else:\n",
    "            y = 0\n",
    "        if (y != yd):\n",
    "            err[i] = 1\n",
    "            aj += 1\n",
    "            w = w + n*(yd-y)*xd\n",
    "            print(w)\n",
    "        else:\n",
    "            err[i] = 0"
   ]
  },
  {
   "cell_type": "code",
   "execution_count": 5,
   "metadata": {},
   "outputs": [
    {
     "name": "stdout",
     "output_type": "stream",
     "text": [
      "Foram feitos 55 ajustes\n",
      "E se levaram 4 épocas\n"
     ]
    }
   ],
   "source": [
    "print(\"Foram feitos\",aj,\"ajustes\")\n",
    "print(\"E se levaram\",epoca,\"épocas\")\n",
    "\n",
    "# O número total de ajustes no vetor de pesos;\n",
    "# (b) O número de épocas até a convergência;\n",
    "# (c) O gráfico contendo todos os exemplos do conjunto de dados e a reta que separa as classes\n",
    "# obtida como resultado do treinamento do neurônio Perceptron. Respeitar o esquema de\n",
    "# cores proposto inicialmente e apresentar a solução de maneira clara neste gráfico.\n",
    "# x2 = 1.000369759x1"
   ]
  },
  {
   "cell_type": "code",
   "execution_count": 6,
   "metadata": {},
   "outputs": [
    {
     "data": {
      "image/png": "[encoded data removed]",
      "text/plain": [
       "<Figure size 432x288 with 1 Axes>"
      ]
     },
     "metadata": {
      "needs_background": "light"
     },
     "output_type": "display_data"
    }
   ],
   "source": [
    "import pandas as pd\n",
    "\n",
    "df = pd.DataFrame(dataAll, columns=['x1', 'x2', 'y'])\n",
    "\n",
    "x0 = np.array(df[df['y'] == 0]) \n",
    "x1 = np.array(df[df['y'] == 1]) \n",
    "\n",
    "X = [x0, x1]\n",
    "colors = [\"red\", \"blue\"]\n",
    "\n",
    "for x, c in zip(X, colors):\n",
    "    if c == \"red\":\n",
    "        plt.scatter(x[:,0], x[:,1], color = c, label = \"0\")\n",
    "    else:\n",
    "        plt.scatter(x[:,0], x[:,1], color = c, label = \"1\")\n",
    "        \n",
    "x_ = np.array(df['x1'])\n",
    "y = x_ * (-w[0]/w[1])\n",
    "\n",
    "plt.plot(x_, y,'black')\n",
    "\n",
    "plt.legend()\n",
    "plt.xlabel(\"x1\")\n",
    "plt.ylabel(\"x2\")\n",
    "\n",
    "plt.show()"
   ]
  },
  {
   "cell_type": "markdown",
   "metadata": {},
   "source": [
    "# Parte II"
   ]
  },
  {
   "cell_type": "code",
   "execution_count": 7,
   "metadata": {},
   "outputs": [
    {
     "name": "stdout",
     "output_type": "stream",
     "text": [
      "Pesos iniciais: [-96.19902694  39.71252784]\n",
      "Taxa de aprendizado: 0.4\n",
      "Intervalo: -100 100\n",
      "Pesos finais: [0.40648573 0.43692357]\n",
      "Épocas passadas: 100\n",
      "Quantidade de certos: 525 / 600\n",
      "\n",
      "Pesos iniciais: [ 0.04101767 -0.05077215]\n",
      "Taxa de aprendizado: 0.4\n",
      "Intervalo: -1 1\n",
      "Pesos finais: [0.40966109 0.44361839]\n",
      "Épocas passadas: 100\n",
      "Quantidade de certos: 526 / 600\n",
      "\n",
      "Pesos iniciais: [0.36725373 0.15502916]\n",
      "Taxa de aprendizado: 0.4\n",
      "Intervalo: -0.5 0.5\n",
      "Pesos finais: [-0.03132107  0.04916467]\n",
      "Épocas passadas: 100\n",
      "Quantidade de certos: 525 / 600\n",
      "\n",
      "Pesos iniciais: [ 29.12246254 -53.40264022]\n",
      "Taxa de aprendizado: 0.1\n",
      "Intervalo: -100 100\n",
      "Pesos finais: [-0.00787842  0.01240285]\n",
      "Épocas passadas: 100\n",
      "Quantidade de certos: 526 / 600\n",
      "\n",
      "Pesos iniciais: [-0.1124955  -0.73633795]\n",
      "Taxa de aprendizado: 0.1\n",
      "Intervalo: -1 1\n",
      "Pesos finais: [0.09937887 0.11159304]\n",
      "Épocas passadas: 100\n",
      "Quantidade de certos: 525 / 600\n",
      "\n",
      "Pesos iniciais: [-0.39443182  0.08820324]\n",
      "Taxa de aprendizado: 0.1\n",
      "Intervalo: -0.5 0.5\n",
      "Pesos finais: [0.08185665 0.09212453]\n",
      "Épocas passadas: 100\n",
      "Quantidade de certos: 528 / 600\n",
      "\n",
      "Pesos iniciais: [-68.89728282  54.39081319]\n",
      "Taxa de aprendizado: 0.01\n",
      "Intervalo: -100 100\n",
      "Pesos finais: [-46.46858152  64.56907927]\n",
      "Épocas passadas: 100\n",
      "Quantidade de certos: 518 / 600\n",
      "\n",
      "Pesos iniciais: [0.49838774 0.44000803]\n",
      "Taxa de aprendizado: 0.01\n",
      "Intervalo: -1 1\n",
      "Pesos finais: [0.00789048 0.01246154]\n",
      "Épocas passadas: 100\n",
      "Quantidade de certos: 520 / 600\n",
      "\n",
      "Pesos iniciais: [-0.17799868 -0.10664703]\n",
      "Taxa de aprendizado: 0.01\n",
      "Intervalo: -0.5 0.5\n",
      "Pesos finais: [0.01011284 0.0096653 ]\n",
      "Épocas passadas: 100\n",
      "Quantidade de certos: 529 / 600\n",
      "\n"
     ]
    }
   ],
   "source": [
    "# Hiago - 1515280014\n",
    "# Alex - 1515080008\n",
    "\n",
    "archive = 'data' + str((4+8) % 4) + '.txt'\n",
    "data0 = np.fromfile(archive)\n",
    "len0 = int(len(data0)/3)\n",
    "data0 = np.reshape(data0, (len0,3))\n",
    "\n",
    "nl = [0.4,0.1,0.01]\n",
    "Il = [100, 1, 0.5]\n",
    "for N in nl:\n",
    "    for I in Il:\n",
    "        w = np.random.uniform(low=-I,high=I,size=2)\n",
    "        x = data0\n",
    "        err = np.repeat(1, len(x))\n",
    "        n = N\n",
    "        aj = 0\n",
    "        print(\"Pesos iniciais:\",w)\n",
    "        epoca = 0\n",
    "        l = []\n",
    "        while (np.isin(1, err) and epoca < 100):\n",
    "            epoca += 1\n",
    "            for i in range(len(x)):\n",
    "                yd = x[i][2]\n",
    "                xd = np.array([x[i][0],x[i][1]])\n",
    "                sigma = w[0]*xd[0]+w[1]*xd[1]\n",
    "                if (sigma >= 0): # função degrau\n",
    "                    y = 1\n",
    "                else:\n",
    "                    y = 0\n",
    "                if (y != yd):\n",
    "                    err[i] = 1\n",
    "                    aj += 1\n",
    "                    \n",
    "                    w = w + n*(yd-y)*xd\n",
    "                    #print(w)\n",
    "                else:\n",
    "                    err[i] = 0\n",
    "        print(\"Taxa de aprendizado:\",n)\n",
    "        print(\"Intervalo:\",-I,I)\n",
    "        print(\"Pesos finais:\",w)\n",
    "        print(\"Épocas passadas:\",epoca)\n",
    "        print(\"Quantidade de certos:\",np.count_nonzero(err == 0),\"/\",len(x))\n",
    "        print()"
   ]
  },
  {
   "cell_type": "markdown",
   "metadata": {},
   "source": [
    "# Parte III"
   ]
  },
  {
   "cell_type": "code",
   "execution_count": 8,
   "metadata": {},
   "outputs": [
    {
     "data": {
      "text/plain": [
       "array([[-0.29322959, -0.09065359,  1.        ],\n",
       "       [ 0.07988839,  0.21101297,  1.        ],\n",
       "       [-0.07825563, -0.08083512,  1.        ],\n",
       "       ...,\n",
       "       [ 0.65980493,  1.05876739,  0.        ],\n",
       "       [ 1.09867123,  0.87404891,  0.        ],\n",
       "       [ 0.72930655,  0.93224271,  0.        ]])"
      ]
     },
     "execution_count": 8,
     "metadata": {},
     "output_type": "execute_result"
    }
   ],
   "source": [
    "archive = 'dataHoldout.txt'\n",
    "dataH = np.fromfile(archive)\n",
    "dataH = np.reshape(dataH, (int(len(dataH)/3),3))\n",
    "dataH"
   ]
  },
  {
   "cell_type": "code",
   "execution_count": 9,
   "metadata": {},
   "outputs": [],
   "source": [
    "# Fazendo o split 70%-30%\n",
    "\n",
    "np.random.shuffle(dataH)\n",
    "\n",
    "# Define a size for your train set \n",
    "train_size = int(0.7 * len(dataH))\n",
    "\n",
    "# Split your dataset \n",
    "train_set = dataH[:train_size]\n",
    "test_set = dataH[train_size:]"
   ]
  },
  {
   "cell_type": "code",
   "execution_count": 10,
   "metadata": {},
   "outputs": [
    {
     "name": "stdout",
     "output_type": "stream",
     "text": [
      "Pesos iniciais: [-0.23060354  0.38809454]\n",
      "Pesos finais: [-0.037778   -0.04047145]\n",
      "Quantidade de certos: 475 / 560\n"
     ]
    }
   ],
   "source": [
    "w = np.random.uniform(low=-1.0,high=1.0,size=2)\n",
    "x = train_set\n",
    "err = np.repeat(1, len(x))\n",
    "n = 0.1\n",
    "aj = 0\n",
    "print(\"Pesos iniciais:\",w)\n",
    "epoca = 0\n",
    "l = []\n",
    "while (np.isin(1, err) and epoca < 100):\n",
    "    epoca += 1\n",
    "    for i in range(len(x)):\n",
    "        yd = x[i][2]\n",
    "        xd = np.array([x[i][0],x[i][1]])\n",
    "        sigma = w[0]*xd[0]+w[1]*xd[1]\n",
    "        if (sigma >= 0): # função degrau\n",
    "            y = 1\n",
    "        else:\n",
    "            y = 0\n",
    "        if (y != yd):\n",
    "            err[i] = 1\n",
    "            aj += 1\n",
    "            \n",
    "            w = w + n*(yd-y)*xd\n",
    "            #print(w)\n",
    "        else:\n",
    "            err[i] = 0\n",
    "    np.random.shuffle(train_set)\n",
    "    # Randomizando o treinamento ao fim de cada época\n",
    "print(\"Pesos finais:\",w)\n",
    "print(\"Quantidade de certos:\",np.count_nonzero(err == 0),\"/\",len(x))"
   ]
  },
  {
   "cell_type": "code",
   "execution_count": 11,
   "metadata": {},
   "outputs": [
    {
     "name": "stdout",
     "output_type": "stream",
     "text": [
      "Quantidade de certos: 490 / 560\n"
     ]
    },
    {
     "data": {
      "text/plain": [
       "array([[ 69,   0],\n",
       "       [ 70, 421]])"
      ]
     },
     "execution_count": 11,
     "metadata": {},
     "output_type": "execute_result"
    }
   ],
   "source": [
    "x = train_set\n",
    "n = 0.1\n",
    "wrong = 0\n",
    "right = 0\n",
    "tp = 0\n",
    "tn = 0\n",
    "fp = 0\n",
    "fn = 0\n",
    "# Para cada um nos testes\n",
    "for i in range(len(x)):\n",
    "    yd = x[i][2]\n",
    "    xd = np.array([x[i][0],x[i][1]])\n",
    "    sigma = w[0]*xd[0]+w[1]*xd[1]\n",
    "    if (sigma >= 0): # função degrau\n",
    "        y = 1\n",
    "    else:\n",
    "        y = 0\n",
    "    if (y != yd):\n",
    "        wrong += 1\n",
    "        if (y == 1):\n",
    "            fp += 1\n",
    "        else:\n",
    "            fn += 1\n",
    "    else:\n",
    "        right += 1\n",
    "        if (y == 1):\n",
    "            tp += 1\n",
    "        else:\n",
    "            tn += 1\n",
    "confusion_matrix = np.array([[tp,fp],[fn, tn]])\n",
    "print(\"Quantidade de certos:\",right,\"/\",len(x))\n",
    "tpTrain = tp\n",
    "fpTrain = fp\n",
    "fnTrain = fn\n",
    "tnTrain = tn\n",
    "rightTrain = right\n",
    "confusion_matrix"
   ]
  },
  {
   "cell_type": "code",
   "execution_count": 12,
   "metadata": {},
   "outputs": [
    {
     "name": "stdout",
     "output_type": "stream",
     "text": [
      "Quantidade de certos: 205 / 240\n"
     ]
    },
    {
     "data": {
      "text/plain": [
       "array([[ 26,   0],\n",
       "       [ 35, 179]])"
      ]
     },
     "execution_count": 12,
     "metadata": {},
     "output_type": "execute_result"
    }
   ],
   "source": [
    "x = test_set\n",
    "n = 0.1\n",
    "wrong = 0\n",
    "right = 0\n",
    "tp = 0\n",
    "tn = 0\n",
    "fp = 0\n",
    "fn = 0\n",
    "# Para cada um nos testes\n",
    "for i in range(len(x)):\n",
    "    yd = x[i][2]\n",
    "    xd = np.array([x[i][0],x[i][1]])\n",
    "    sigma = w[0]*xd[0]+w[1]*xd[1]\n",
    "    if (sigma >= 0): # função degrau\n",
    "        y = 1\n",
    "    else:\n",
    "        y = 0\n",
    "    if (y != yd):\n",
    "        wrong += 1\n",
    "        if (y == 1):\n",
    "            fp += 1\n",
    "        else:\n",
    "            fn += 1\n",
    "    else:\n",
    "        right += 1\n",
    "        if (y == 1):\n",
    "            tp += 1\n",
    "        else:\n",
    "            tn += 1\n",
    "\n",
    "confusion_matrix = np.array([[tp,fp],[fn, tn]])\n",
    "tpTest = tp\n",
    "fpTest = fp\n",
    "fnTest = fn\n",
    "tnTest = tn\n",
    "print(\"Quantidade de certos:\",right,\"/\",len(x))\n",
    "confusion_matrix"
   ]
  },
  {
   "cell_type": "markdown",
   "metadata": {},
   "source": [
    "## Métricas de desempenho"
   ]
  },
  {
   "cell_type": "code",
   "execution_count": 13,
   "metadata": {},
   "outputs": [
    {
     "name": "stdout",
     "output_type": "stream",
     "text": [
      "Acurácia do treino: 0.875\n",
      "Precisão do treino: 1.0\n",
      "Revocação do treino: 0.49640287769784175\n",
      "F-Score do treino: 0.6634615384615384\n"
     ]
    }
   ],
   "source": [
    "# Qual a acurácia da solução proposta para os dados do conjunto de treinamento inicialmente fornecido?\n",
    "acTrain = rightTrain/train_size\n",
    "print(\"Acurácia do treino:\",acTrain)\n",
    "# Nos mesmos termos da questão anterior, obtenha os valores de precisão, revocação e F -Score;\n",
    "precTrain = tpTrain/(tpTrain+fpTrain)\n",
    "revoTrain = tpTrain/(tpTrain+fnTrain)\n",
    "FScoreTrain = (2*(precTrain*revoTrain))/(precTrain+revoTrain)\n",
    "print(\"Precisão do treino:\",precTrain)\n",
    "print(\"Revocação do treino:\",revoTrain)\n",
    "print(\"F-Score do treino:\",FScoreTrain)"
   ]
  },
  {
   "cell_type": "markdown",
   "metadata": {},
   "source": [
    "## A partir destas métricas, discorra acerca da qualidade desta solução perante o conjunto de testes.\n",
    "\n",
    "Apesar de uma acurácia e precisão boas, esta solução, no entanto, não é muito desejada. Quanto aos negativos, dos verdadeiramente negativos, não errou nenhum. Mas a solução tem precisão de 100% e revocação de 44%, isto indica que quando a solução diz que é positivo, é realmente positivo, mas ele tem muita dificuldade em identificar os verdadeiramente positivos, apesar de reconhecê-los quando os vê.\n",
    "\n",
    "O F-Score da solução não ajuda muito, tendo 0.615 de pontuação, o que não é muito desejável. Com as métricas em mãos, nossa equipe tomou a conclusão de que esta solução não é de boa qualidade perante o conjunto de testes."
   ]
  },
  {
   "cell_type": "code",
   "execution_count": null,
   "metadata": {},
   "outputs": [],
   "source": []
  }
 ],
 "metadata": {
  "kernelspec": {
   "display_name": "Python 3",
   "language": "python",
   "name": "python3"
  },
  "language_info": {
   "codemirror_mode": {
    "name": "ipython",
    "version": 3
   },
   "file_extension": ".py",
   "mimetype": "text/x-python",
   "name": "python",
   "nbconvert_exporter": "python",
   "pygments_lexer": "ipython3",
   "version": "3.8.2"
  }
 },
 "nbformat": 4,
 "nbformat_minor": 4
}
