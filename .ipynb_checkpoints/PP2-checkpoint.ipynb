{
 "cells": [
  {
   "cell_type": "code",
   "execution_count": 2,
   "metadata": {},
   "outputs": [],
   "source": [
    "import numpy as np\n",
    "import matplotlib.pyplot as plt"
   ]
  },
  {
   "cell_type": "markdown",
   "metadata": {},
   "source": [
    "# Parte I"
   ]
  },
  {
   "cell_type": "code",
   "execution_count": 3,
   "metadata": {},
   "outputs": [
    {
     "data": {
      "text/plain": [
       "array([[-363.7884,  244.1423,    0.    ],\n",
       "       [ 328.7572, -256.7658,    1.    ],\n",
       "       [-164.9827,  613.2164,    0.    ],\n",
       "       ...,\n",
       "       [ 872.4311,  669.1192,    1.    ],\n",
       "       [ 822.6894, -702.6489,    1.    ],\n",
       "       [-140.147 ,  734.0983,    0.    ]])"
      ]
     },
     "execution_count": 3,
     "metadata": {},
     "output_type": "execute_result"
    }
   ],
   "source": [
    "archiveAll = 'dataAll.txt'\n",
    "dataAll = np.fromfile(archiveAll)\n",
    "lenAll = int(len(dataAll)/3)\n",
    "dataAll = np.reshape(dataAll, (lenAll,3)) \n",
    "# Eu sei que é (m,1,3), mas na prática não vimos muita diferença então colocamos (m,3)\n",
    "\n",
    "dataAll"
   ]
  },
  {
   "cell_type": "code",
   "execution_count": 4,
   "metadata": {},
   "outputs": [
    {
     "name": "stdout",
     "output_type": "stream",
     "text": [
      "Pesos iniciais: [-0.05989526  0.07071526]\n",
      "Época 1\n",
      "[ 36.31894474 -24.34351474]\n",
      "[ -17.34010526 -100.83926474]\n",
      "[ 55.45591474 -65.00970474]\n",
      "[138.05461474  14.84612526]\n",
      "[143.90037474 -63.44846474]\n",
      "[ 103.89146474 -141.34115474]\n",
      "[157.56127474 -92.24888474]\n",
      "[ 104.60121474 -149.11834474]\n",
      "[164.16073474 -98.99601474]\n",
      "[ 118.63610474 -164.63194474]\n",
      "[209.35196474 -89.91862474]\n",
      "[ 151.57097474 -150.22677474]\n",
      "[ 103.30441474 -198.69649474]\n",
      "[ 173.75176474 -156.58022474]\n",
      "[ 126.90976474 -207.99009474]\n",
      "[ 196.77339474 -143.77115474]\n",
      "[ 140.93766474 -199.94868474]\n",
      "[ 217.92513474 -135.09935474]\n",
      "[ 181.65509474 -178.32739474]\n",
      "[ 163.41595474 -196.66103474]\n",
      "[ 238.83839474 -130.60592474]\n",
      "[ 174.47926474 -213.02836474]\n",
      "[ 265.78747474 -129.75759474]\n",
      "[ 218.74264474 -217.66153474]\n",
      "Época 2\n",
      "[ 170.47608474 -266.13125474]\n",
      "[ 240.33971474 -201.91231474]\n",
      "[ 184.50398474 -258.08984474]\n",
      "[ 261.49145474 -193.24051474]\n",
      "[ 225.22141474 -236.46855474]\n",
      "[ 308.11328474 -153.68706474]\n",
      "[ 261.96590474 -210.33644474]\n",
      "[ 235.34028474 -242.85881474]\n",
      "[ 282.36464474 -196.30464474]\n",
      "[ 252.48058474 -229.41397474]\n",
      "[ 234.24144474 -247.74761474]\n",
      "[ 265.54832474 -217.11929474]\n",
      "[ 189.99442474 -294.44224474]\n",
      "[ 258.97031474 -229.65131474]\n",
      "[ 163.15876474 -327.53305474]\n",
      "[ 244.33249474 -276.18511474]\n",
      "[ 343.80032474 -184.29555474]\n",
      "[ 285.09540474 -276.63280474]\n",
      "[ 241.23727474 -321.17181474]\n",
      "[ 328.48038474 -254.25989474]\n",
      "Época 3\n",
      "[ 297.05741474 -288.64364474]\n",
      "[ 247.14759474 -339.90407474]\n",
      "[ 274.61118474 -319.04772474]\n",
      "[ 324.07200474 -270.15367474]\n",
      "[ 295.86454474 -303.73779474]\n",
      "[ 382.99930474 -217.04796474]\n",
      "[ 331.08397474 -273.24898474]\n",
      "[ 266.19794474 -347.86507474]\n",
      "[ 355.90674474 -268.85635474]\n",
      "[ 278.44379474 -366.84406474]\n",
      "[ 323.34913474 -323.44012474]\n",
      "Época 4\n"
     ]
    }
   ],
   "source": [
    "w = np.random.uniform(low=-0.5,high=0.5,size=2)\n",
    "x = dataAll\n",
    "err = np.repeat(1, len(x)) #\n",
    "n = 0.1\n",
    "aj = 0\n",
    "print(\"Pesos iniciais:\",w)\n",
    "epoca = 0\n",
    "l = []\n",
    "while (np.isin(1, err)):\n",
    "    epoca += 1\n",
    "    print(\"Época\",epoca)\n",
    "    for i in range(len(x)):\n",
    "        yd = x[i][2]\n",
    "        xd = np.array([x[i][0],x[i][1]])\n",
    "        sigma = w[0]*xd[0]+w[1]*xd[1]\n",
    "        if (sigma >= 0): # função degrau\n",
    "            y = 1\n",
    "        else:\n",
    "            y = 0\n",
    "        if (y != yd):\n",
    "            err[i] = 1\n",
    "            aj += 1\n",
    "            w = w + n*(yd-y)*xd\n",
    "            print(w)\n",
    "        else:\n",
    "            err[i] = 0"
   ]
  },
  {
   "cell_type": "code",
   "execution_count": 5,
   "metadata": {},
   "outputs": [
    {
     "name": "stdout",
     "output_type": "stream",
     "text": [
      "Foram feitos 55 ajustes\n",
      "E se levaram 4 épocas\n"
     ]
    }
   ],
   "source": [
    "print(\"Foram feitos\",aj,\"ajustes\")\n",
    "print(\"E se levaram\",epoca,\"épocas\")\n",
    "\n",
    "# O número total de ajustes no vetor de pesos;\n",
    "# (b) O número de épocas até a convergência;\n",
    "# (c) O gráfico contendo todos os exemplos do conjunto de dados e a reta que separa as classes\n",
    "# obtida como resultado do treinamento do neurônio Perceptron. Respeitar o esquema de\n",
    "# cores proposto inicialmente e apresentar a solução de maneira clara neste gráfico.\n",
    "# x2 = 1.000369759x1"
   ]
  },
  {
   "cell_type": "code",
   "execution_count": 6,
   "metadata": {},
   "outputs": [
    {
     "data": {
      "image/png": "[encoded data removed]",
      "text/plain": [
       "<Figure size 432x288 with 1 Axes>"
      ]
     },
     "metadata": {
      "needs_background": "light"
     },
     "output_type": "display_data"
    }
   ],
   "source": [
    "import pandas as pd\n",
    "\n",
    "df = pd.DataFrame(dataAll, columns=['x1', 'x2', 'yd'])\n",
    "     \n",
    "x0 = np.array(df[df['yd'] == 0]) \n",
    "x1 = np.array(df[df['yd'] == 1]) \n",
    "\n",
    "X = [x0, x1]\n",
    "colors = [\"red\", \"blue\"]\n",
    "\n",
    "for x, c in zip(X, colors):\n",
    "    if c == \"red\":\n",
    "        plt.scatter(x[:,0], x[:,1], color = c, label = \"0\")\n",
    "    else:\n",
    "        plt.scatter(x[:,0], x[:,1], color = c, label = \"1\")\n",
    "\n",
    "plt.legend()\n",
    "plt.xlabel(\"x1\")\n",
    "plt.ylabel(\"x2\")\n",
    "\n",
    "plt.show()"
   ]
  },
  {
   "cell_type": "markdown",
   "metadata": {},
   "source": [
    "# Parte II"
   ]
  },
  {
   "cell_type": "code",
   "execution_count": 7,
   "metadata": {},
   "outputs": [
    {
     "name": "stdout",
     "output_type": "stream",
     "text": [
      "Pesos iniciais: [-22.84678022   6.48519467]\n",
      "Taxa de aprendizado: 0.4\n",
      "Intervalo: -100 100\n",
      "Pesos finais: [0.33009867 0.47543725]\n",
      "Épocas passadas: 100\n",
      "Quantidade de certos: 529 / 600\n",
      "\n",
      "Pesos iniciais: [0.05861258 0.87832521]\n",
      "Taxa de aprendizado: 0.4\n",
      "Intervalo: -1 1\n",
      "Pesos finais: [0.31588027 0.49568514]\n",
      "Épocas passadas: 100\n",
      "Quantidade de certos: 527 / 600\n",
      "\n",
      "Pesos iniciais: [-0.49067102  0.49588535]\n",
      "Taxa de aprendizado: 0.4\n",
      "Intervalo: -0.5 0.5\n",
      "Pesos finais: [0.40713697 0.44198462]\n",
      "Épocas passadas: 100\n",
      "Quantidade de certos: 523 / 600\n",
      "\n",
      "Pesos iniciais: [-69.28607698  63.28260429]\n",
      "Taxa de aprendizado: 0.1\n",
      "Intervalo: -100 100\n",
      "Pesos finais: [-9.89187448 23.23092046]\n",
      "Épocas passadas: 100\n",
      "Quantidade de certos: 523 / 600\n",
      "\n",
      "Pesos iniciais: [ 0.87027647 -0.32873675]\n",
      "Taxa de aprendizado: 0.1\n",
      "Intervalo: -1 1\n",
      "Pesos finais: [0.10438167 0.10829525]\n",
      "Épocas passadas: 100\n",
      "Quantidade de certos: 522 / 600\n",
      "\n",
      "Pesos iniciais: [0.42229168 0.22047237]\n",
      "Taxa de aprendizado: 0.1\n",
      "Intervalo: -0.5 0.5\n",
      "Pesos finais: [0.10428342 0.10682056]\n",
      "Épocas passadas: 100\n",
      "Quantidade de certos: 526 / 600\n",
      "\n",
      "Pesos iniciais: [ 15.41308451 -84.8414518 ]\n",
      "Taxa de aprendizado: 0.01\n",
      "Intervalo: -100 100\n",
      "Pesos finais: [0.01041435 0.01083923]\n",
      "Épocas passadas: 100\n",
      "Quantidade de certos: 522 / 600\n",
      "\n",
      "Pesos iniciais: [ 0.96791044 -0.20473128]\n",
      "Taxa de aprendizado: 0.01\n",
      "Intervalo: -1 1\n",
      "Pesos finais: [0.0100201  0.01100923]\n",
      "Épocas passadas: 100\n",
      "Quantidade de certos: 527 / 600\n",
      "\n",
      "Pesos iniciais: [-0.09858469 -0.19496972]\n",
      "Taxa de aprendizado: 0.01\n",
      "Intervalo: -0.5 0.5\n",
      "Pesos finais: [0.01032024 0.01092795]\n",
      "Épocas passadas: 100\n",
      "Quantidade de certos: 524 / 600\n",
      "\n"
     ]
    }
   ],
   "source": [
    "# Hiago - 1515280014\n",
    "# Alex - 1515080008\n",
    "\n",
    "archive = 'data' + str((4+8) % 4) + '.txt'\n",
    "data0 = np.fromfile(archive)\n",
    "len0 = int(len(data0)/3)\n",
    "data0 = np.reshape(data0, (len0,3))\n",
    "\n",
    "nl = [0.4,0.1,0.01]\n",
    "Il = [100, 1, 0.5]\n",
    "for N in nl:\n",
    "    for I in Il:\n",
    "        w = np.random.uniform(low=-I,high=I,size=2)\n",
    "        x = data0\n",
    "        err = np.repeat(1, len(x))\n",
    "        n = N\n",
    "        aj = 0\n",
    "        print(\"Pesos iniciais:\",w)\n",
    "        epoca = 0\n",
    "        l = []\n",
    "        while (np.isin(1, err) and epoca < 100):\n",
    "            epoca += 1\n",
    "            for i in range(len(x)):\n",
    "                yd = x[i][2]\n",
    "                xd = np.array([x[i][0],x[i][1]])\n",
    "                sigma = w[0]*xd[0]+w[1]*xd[1]\n",
    "                if (sigma >= 0): # função degrau\n",
    "                    y = 1\n",
    "                else:\n",
    "                    y = 0\n",
    "                if (y != yd):\n",
    "                    err[i] = 1\n",
    "                    aj += 1\n",
    "                    \n",
    "                    w = w + n*(yd-y)*xd\n",
    "                    #print(w)\n",
    "                else:\n",
    "                    err[i] = 0\n",
    "        print(\"Taxa de aprendizado:\",n)\n",
    "        print(\"Intervalo:\",-I,I)\n",
    "        print(\"Pesos finais:\",w)\n",
    "        print(\"Épocas passadas:\",epoca)\n",
    "        print(\"Quantidade de certos:\",np.count_nonzero(err == 0),\"/\",len(x))\n",
    "        print()"
   ]
  },
  {
   "cell_type": "markdown",
   "metadata": {},
   "source": [
    "# Parte III"
   ]
  },
  {
   "cell_type": "code",
   "execution_count": 8,
   "metadata": {},
   "outputs": [
    {
     "data": {
      "text/plain": [
       "array([[-0.29322959, -0.09065359,  1.        ],\n",
       "       [ 0.07988839,  0.21101297,  1.        ],\n",
       "       [-0.07825563, -0.08083512,  1.        ],\n",
       "       ...,\n",
       "       [ 0.65980493,  1.05876739,  0.        ],\n",
       "       [ 1.09867123,  0.87404891,  0.        ],\n",
       "       [ 0.72930655,  0.93224271,  0.        ]])"
      ]
     },
     "execution_count": 8,
     "metadata": {},
     "output_type": "execute_result"
    }
   ],
   "source": [
    "archive = 'dataHoldout.txt'\n",
    "dataH = np.fromfile(archive)\n",
    "dataH = np.reshape(dataH, (int(len(dataH)/3),3))\n",
    "dataH"
   ]
  },
  {
   "cell_type": "code",
   "execution_count": 9,
   "metadata": {},
   "outputs": [],
   "source": [
    "# Fazendo o split 70%-30%\n",
    "\n",
    "np.random.shuffle(dataH)\n",
    "\n",
    "# Define a size for your train set \n",
    "train_size = int(0.7 * len(dataH))\n",
    "\n",
    "# Split your dataset \n",
    "train_set = dataH[:train_size]\n",
    "test_set = dataH[train_size:]"
   ]
  },
  {
   "cell_type": "code",
   "execution_count": 10,
   "metadata": {},
   "outputs": [
    {
     "name": "stdout",
     "output_type": "stream",
     "text": [
      "Pesos iniciais: [-0.30709647 -0.18530795]\n",
      "Pesos finais: [-0.13301464 -0.03114872]\n",
      "Quantidade de certos: 466 / 560\n"
     ]
    }
   ],
   "source": [
    "w = np.random.uniform(low=-1.0,high=1.0,size=2)\n",
    "x = train_set\n",
    "err = np.repeat(1, len(x))\n",
    "n = 0.1\n",
    "aj = 0\n",
    "print(\"Pesos iniciais:\",w)\n",
    "epoca = 0\n",
    "l = []\n",
    "while (np.isin(1, err) and epoca < 100):\n",
    "    epoca += 1\n",
    "    for i in range(len(x)):\n",
    "        yd = x[i][2]\n",
    "        xd = np.array([x[i][0],x[i][1]])\n",
    "        sigma = w[0]*xd[0]+w[1]*xd[1]\n",
    "        if (sigma >= 0): # função degrau\n",
    "            y = 1\n",
    "        else:\n",
    "            y = 0\n",
    "        if (y != yd):\n",
    "            err[i] = 1\n",
    "            aj += 1\n",
    "            \n",
    "            w = w + n*(yd-y)*xd\n",
    "            #print(w)\n",
    "        else:\n",
    "            err[i] = 0\n",
    "    np.random.shuffle(train_set)\n",
    "    # Randomizando o treinamento ao fim de cada época\n",
    "print(\"Pesos finais:\",w)\n",
    "print(\"Quantidade de certos:\",np.count_nonzero(err == 0),\"/\",len(x))"
   ]
  },
  {
   "cell_type": "code",
   "execution_count": 11,
   "metadata": {},
   "outputs": [
    {
     "name": "stdout",
     "output_type": "stream",
     "text": [
      "Quantidade de certos: 462 / 560\n"
     ]
    },
    {
     "data": {
      "text/plain": [
       "array([[ 64,  24],\n",
       "       [ 74, 398]])"
      ]
     },
     "execution_count": 11,
     "metadata": {},
     "output_type": "execute_result"
    }
   ],
   "source": [
    "x = train_set\n",
    "n = 0.1\n",
    "wrong = 0\n",
    "right = 0\n",
    "tp = 0\n",
    "tn = 0\n",
    "fp = 0\n",
    "fn = 0\n",
    "# Para cada um nos testes\n",
    "for i in range(len(x)):\n",
    "    yd = x[i][2]\n",
    "    xd = np.array([x[i][0],x[i][1]])\n",
    "    sigma = w[0]*xd[0]+w[1]*xd[1]\n",
    "    if (sigma >= 0): # função degrau\n",
    "        y = 1\n",
    "    else:\n",
    "        y = 0\n",
    "    if (y != yd):\n",
    "        wrong += 1\n",
    "        if (y == 1):\n",
    "            fp += 1\n",
    "        else:\n",
    "            fn += 1\n",
    "    else:\n",
    "        right += 1\n",
    "        if (y == 1):\n",
    "            tp += 1\n",
    "        else:\n",
    "            tn += 1\n",
    "confusion_matrix = np.array([[tp,fp],[fn, tn]])\n",
    "print(\"Quantidade de certos:\",right,\"/\",len(x))\n",
    "tpTrain = tp\n",
    "fpTrain = fp\n",
    "fnTrain = fn\n",
    "tnTrain = tn\n",
    "rightTrain = right\n",
    "confusion_matrix"
   ]
  },
  {
   "cell_type": "code",
   "execution_count": 12,
   "metadata": {},
   "outputs": [
    {
     "name": "stdout",
     "output_type": "stream",
     "text": [
      "Quantidade de certos: 203 / 240\n"
     ]
    },
    {
     "data": {
      "text/plain": [
       "array([[ 27,   2],\n",
       "       [ 35, 176]])"
      ]
     },
     "execution_count": 12,
     "metadata": {},
     "output_type": "execute_result"
    }
   ],
   "source": [
    "x = test_set\n",
    "n = 0.1\n",
    "wrong = 0\n",
    "right = 0\n",
    "tp = 0\n",
    "tn = 0\n",
    "fp = 0\n",
    "fn = 0\n",
    "# Para cada um nos testes\n",
    "for i in range(len(x)):\n",
    "    yd = x[i][2]\n",
    "    xd = np.array([x[i][0],x[i][1]])\n",
    "    sigma = w[0]*xd[0]+w[1]*xd[1]\n",
    "    if (sigma >= 0): # função degrau\n",
    "        y = 1\n",
    "    else:\n",
    "        y = 0\n",
    "    if (y != yd):\n",
    "        wrong += 1\n",
    "        if (y == 1):\n",
    "            fp += 1\n",
    "        else:\n",
    "            fn += 1\n",
    "    else:\n",
    "        right += 1\n",
    "        if (y == 1):\n",
    "            tp += 1\n",
    "        else:\n",
    "            tn += 1\n",
    "\n",
    "confusion_matrix = np.array([[tp,fp],[fn, tn]])\n",
    "tpTest = tp\n",
    "fpTest = fp\n",
    "fnTest = fn\n",
    "tnTest = tn\n",
    "print(\"Quantidade de certos:\",right,\"/\",len(x))\n",
    "confusion_matrix"
   ]
  },
  {
   "cell_type": "markdown",
   "metadata": {},
   "source": [
    "## Métricas de desempenho"
   ]
  },
  {
   "cell_type": "code",
   "execution_count": 13,
   "metadata": {},
   "outputs": [
    {
     "name": "stdout",
     "output_type": "stream",
     "text": [
      "Acurácia do treino: 0.825\n",
      "Precisão do treino: 0.7272727272727273\n",
      "Revocação do treino: 0.463768115942029\n",
      "F-Score do treino: 0.5663716814159292\n"
     ]
    }
   ],
   "source": [
    "# Qual a acurácia da solução proposta para os dados do conjunto de treinamento inicialmente fornecido?\n",
    "acTrain = rightTrain/train_size\n",
    "print(\"Acurácia do treino:\",acTrain)\n",
    "# Nos mesmos termos da questão anterior, obtenha os valores de precisão, revocação e F -Score;\n",
    "precTrain = tpTrain/(tpTrain+fpTrain)\n",
    "revoTrain = tpTrain/(tpTrain+fnTrain)\n",
    "FScoreTrain = (2*(precTrain*revoTrain))/(precTrain+revoTrain)\n",
    "print(\"Precisão do treino:\",precTrain)\n",
    "print(\"Revocação do treino:\",revoTrain)\n",
    "print(\"F-Score do treino:\",FScoreTrain)"
   ]
  },
  {
   "cell_type": "markdown",
   "metadata": {},
   "source": [
    "## A partir destas métricas, discorra acerca da qualidade desta solução perante o conjunto de testes.\n",
    "\n",
    "Apesar de uma acurácia e precisão boas, esta solução, no entanto, não é muito desejada. Quanto aos negativos, dos verdadeiramente negativos, não errou nenhum. Mas a solução tem precisão de 100% e revocação de 44%, isto indica que quando a solução diz que é positivo, é realmente positivo, mas ele tem muita dificuldade em identificar os verdadeiramente positivos, apesar de reconhecê-los quando os vê.\n",
    "\n",
    "O F-Score da solução não ajuda muito, tendo 0.615 de pontuação, o que não é muito desejável. Com as métricas em mãos, nossa equipe tomou a conclusão de que esta solução não é de boa qualidade perante o conjunto de testes."
   ]
  },
  {
   "cell_type": "code",
   "execution_count": null,
   "metadata": {},
   "outputs": [],
   "source": []
  }
 ],
 "metadata": {
  "kernelspec": {
   "display_name": "Python 3",
   "language": "python",
   "name": "python3"
  },
  "language_info": {
   "codemirror_mode": {
    "name": "ipython",
    "version": 3
   },
   "file_extension": ".py",
   "mimetype": "text/x-python",
   "name": "python",
   "nbconvert_exporter": "python",
   "pygments_lexer": "ipython3",
   "version": "3.8.2"
  }
 },
 "nbformat": 4,
 "nbformat_minor": 4
}
