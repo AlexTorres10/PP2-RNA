{
 "cells": [
  {
   "cell_type": "markdown",
   "metadata": {
    "colab_type": "text",
    "id": "view-in-github"
   },
   "source": [
    "<a href=\"https://colab.research.google.com/github/AlexTorres10/PP2-RNA/blob/master/Parte01.ipynb\" target=\"_parent\"><img src=\"https://colab.research.google.com/assets/colab-badge.svg\" alt=\"Open In Colab\"/></a>"
   ]
  },
  {
   "cell_type": "markdown",
   "metadata": {
    "colab_type": "text",
    "id": "maLdnAFn69UD"
   },
   "source": [
    "### Montando o google drive\n"
   ]
  },
  {
   "cell_type": "code",
   "execution_count": null,
   "metadata": {
    "colab": {},
    "colab_type": "code",
    "id": "eao8hJK_7EZf"
   },
   "outputs": [],
   "source": [
    "from google.colab import drive\n",
    "drive.mount('/gdrive/')"
   ]
  },
  {
   "cell_type": "markdown",
   "metadata": {
    "colab_type": "text",
    "id": "SeDHjXiB6FlB"
   },
   "source": [
    "### Parte I – Resolvendo um Problema Linearmente Separável \n"
   ]
  },
  {
   "cell_type": "code",
   "execution_count": 1,
   "metadata": {
    "colab": {
     "base_uri": "https://localhost:8080/",
     "height": 34
    },
    "colab_type": "code",
    "collapsed": true,
    "id": "1u-NAPTTV6D3",
    "outputId": "1d59e7b2-f726-4c7d-9d4a-67b23b588db3"
   },
   "outputs": [
    {
     "ename": "FileNotFoundError",
     "evalue": "[Errno 2] No such file or directory: '/gdrive/My Drive/Colab Notebooks/dataAll.txt'",
     "output_type": "error",
     "traceback": [
      "\u001b[1;31m---------------------------------------------------------------------------\u001b[0m",
      "\u001b[1;31mFileNotFoundError\u001b[0m                         Traceback (most recent call last)",
      "\u001b[1;32m<ipython-input-1-c823206eb39c>\u001b[0m in \u001b[0;36m<module>\u001b[1;34m\u001b[0m\n\u001b[0;32m      1\u001b[0m \u001b[1;32mimport\u001b[0m \u001b[0mnumpy\u001b[0m \u001b[1;32mas\u001b[0m \u001b[0mnp\u001b[0m\u001b[1;33m\u001b[0m\u001b[1;33m\u001b[0m\u001b[0m\n\u001b[0;32m      2\u001b[0m \u001b[1;33m\u001b[0m\u001b[0m\n\u001b[1;32m----> 3\u001b[1;33m \u001b[0mdata\u001b[0m \u001b[1;33m=\u001b[0m \u001b[0mnp\u001b[0m\u001b[1;33m.\u001b[0m\u001b[0mfromfile\u001b[0m\u001b[1;33m(\u001b[0m\u001b[1;34m'/gdrive/My Drive/Colab Notebooks/dataAll.txt'\u001b[0m\u001b[1;33m)\u001b[0m\u001b[1;33m\u001b[0m\u001b[1;33m\u001b[0m\u001b[0m\n\u001b[0m\u001b[0;32m      4\u001b[0m \u001b[0mdata\u001b[0m \u001b[1;33m=\u001b[0m \u001b[0mdata\u001b[0m\u001b[1;33m.\u001b[0m\u001b[0mreshape\u001b[0m\u001b[1;33m(\u001b[0m\u001b[0mdata\u001b[0m\u001b[1;33m.\u001b[0m\u001b[0mshape\u001b[0m\u001b[1;33m[\u001b[0m\u001b[1;36m0\u001b[0m\u001b[1;33m]\u001b[0m\u001b[1;33m//\u001b[0m\u001b[1;36m3\u001b[0m\u001b[1;33m,\u001b[0m \u001b[1;36m3\u001b[0m\u001b[1;33m)\u001b[0m\u001b[1;33m\u001b[0m\u001b[1;33m\u001b[0m\u001b[0m\n\u001b[0;32m      5\u001b[0m \u001b[1;33m\u001b[0m\u001b[0m\n",
      "\u001b[1;31mFileNotFoundError\u001b[0m: [Errno 2] No such file or directory: '/gdrive/My Drive/Colab Notebooks/dataAll.txt'"
     ]
    }
   ],
   "source": [
    "import numpy as np\n",
    "\n",
    "data = np.fromfile('/gdrive/My Drive/Colab Notebooks/dataAll.txt')\n",
    "data = data.reshape(data.shape[0]//3, 3)\n",
    "\n",
    "x = data[:, :2]\n",
    "y = data[:, 2:].astype(int)\n",
    "\n",
    "eta = 0.1\n",
    "teta = 0.0\n",
    "ajustes = 0\n",
    "epocas = 0\n",
    "total_ajustes = 0\n",
    "\n",
    "pesos = np.random.uniform(low=-0.5, high=0.5, size=2)\n",
    "print('Pesos iniciais\\n', pesos)    \n",
    "\n",
    "convergencia = False\n",
    "\n",
    "while not convergencia:\n",
    "\n",
    "    epocas += 1\n",
    "    erros = np.array([])\n",
    "\n",
    "    for xi, yd in zip(x, y):\n",
    "\n",
    "        yp = (1 if np.array(xi * pesos).sum() > teta else 0)\n",
    "        erros = np.append(erros, [yd - yp])\n",
    "\n",
    "    if erros.max() != 0.0 or erros.min() != 0.0:\n",
    "\n",
    "        print('\\nAjustando os pesos\\n')\n",
    "\n",
    "        for xi, erro in zip(x, erros):\n",
    "            pesos = pesos + (eta * erro * xi)\n",
    "\n",
    "            if erro != 0.0:\n",
    "                ajustes += 1\n",
    "                total_ajustes += ajustes\n",
    "\n",
    "                print(pesos)\n",
    "    else:\n",
    "        convergencia =  True\n",
    "\n",
    "    print('\\nNa época {0}, os pesos foram ajustados {1} vezes\\n'.format(epocas, ajustes))\n",
    "\n",
    "\n",
    "print('Total de ajustes no vetor de pesos: ', total_ajustes)\n",
    "print('Total de épocas até a convergência: ', epocas)\n",
    "print('Pesos finais: ', pesos)"
   ]
  }
 ],
 "metadata": {
  "colab": {
   "collapsed_sections": [],
   "include_colab_link": true,
   "name": "Parte01.ipynb",
   "provenance": []
  },
  "kernelspec": {
   "display_name": "Python 3",
   "language": "python",
   "name": "python3"
  },
  "language_info": {
   "codemirror_mode": {
    "name": "ipython",
    "version": 3
   },
   "file_extension": ".py",
   "mimetype": "text/x-python",
   "name": "python",
   "nbconvert_exporter": "python",
   "pygments_lexer": "ipython3",
   "version": "3.8.2"
  }
 },
 "nbformat": 4,
 "nbformat_minor": 1
}
